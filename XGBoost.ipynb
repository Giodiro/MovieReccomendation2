{
 "cells": [
  {
   "cell_type": "code",
   "execution_count": 1,
   "metadata": {
    "collapsed": false,
    "deletable": true,
    "editable": true
   },
   "outputs": [
    {
     "name": "stderr",
     "output_type": "stream",
     "text": [
      "/home/giodiro/source/ml/venv/local/lib/python2.7/site-packages/sklearn/cross_validation.py:44: DeprecationWarning: This module was deprecated in version 0.18 in favor of the model_selection module into which all the refactored classes and functions are moved. Also note that the interface of the new CV iterators are different from that of this module. This module will be removed in 0.20.\n",
      "  \"This module will be removed in 0.20.\", DeprecationWarning)\n"
     ]
    }
   ],
   "source": [
    "from __future__ import print_function, division\n",
    "import numpy as np\n",
    "import functools\n",
    "import matplotlib.pyplot as plt\n",
    "import time\n",
    "import xgboost as xgb"
   ]
  },
  {
   "cell_type": "code",
   "execution_count": 2,
   "metadata": {
    "collapsed": true,
    "deletable": true,
    "editable": true
   },
   "outputs": [],
   "source": [
    "matrix_size = (10000, 1000)\n",
    "## Helper functions\n",
    "def extract_line_data(l):\n",
    "    us = l.index('_')\n",
    "    row = int(l[1:us])-1\n",
    "    com = l.index(',')\n",
    "    col = int(l[us+2:com])-1\n",
    "    val = float(l[com+1:l.index('\\n')])\n",
    "    return (row, col, val)\n",
    "    \n",
    "def read_data(file_name):\n",
    "    print(\"Reading file %s\" % file_name)\n",
    "    Atr = np.zeros(matrix_size, dtype=float)\n",
    "    \n",
    "    with open(file_name, 'r') as fh:\n",
    "        data = fh.readlines()\n",
    "    \n",
    "    for i, l in enumerate(data[1:]):\n",
    "        row, col, val = extract_line_data(l)\n",
    "        Atr[row, col] = val\n",
    "\n",
    "    return Atr\n",
    "\n",
    "def write_predict(pfunc, M, fn):\n",
    "    with open(fn, 'w') as fh:\n",
    "        fh.write(\"Id,Prediction\\n\")\n",
    "        for x in range(M.shape[0]):\n",
    "            for y in range(M.shape[1]):\n",
    "                if M[x, y] == True:\n",
    "                    fh.write(\"r%d_c%d,%f\\n\" % (x+1, y+1, pfunc(x, y)))"
   ]
  },
  {
   "cell_type": "code",
   "execution_count": 3,
   "metadata": {
    "collapsed": true,
    "deletable": true,
    "editable": true
   },
   "outputs": [],
   "source": [
    "do_predictions = True"
   ]
  },
  {
   "cell_type": "code",
   "execution_count": 4,
   "metadata": {
    "collapsed": false,
    "deletable": true,
    "editable": true
   },
   "outputs": [
    {
     "name": "stdout",
     "output_type": "stream",
     "text": [
      "Reading file data_train.csv\n",
      "Reading file sampleSubmission.csv\n"
     ]
    }
   ],
   "source": [
    "# Read true training labels\n",
    "train_labels = read_data(\"data_train.csv\")\n",
    "test_labels = read_data(\"sampleSubmission.csv\")"
   ]
  },
  {
   "cell_type": "code",
   "execution_count": 5,
   "metadata": {
    "collapsed": false,
    "deletable": true,
    "editable": true
   },
   "outputs": [],
   "source": [
    "# Split validation and training\n",
    "train_indices = np.array(np.where(train_labels != 0)).T\n",
    "if do_predictions:\n",
    "    valid_size = 0\n",
    "else:\n",
    "    valid_size = train_indices.shape[0]//4\n",
    "\n",
    "valid_indices_tmp = np.random.choice(range(train_indices.shape[0]), \n",
    "                                     size=(valid_size, ), \n",
    "                                     replace=False)\n",
    "valid_indices = np.array(train_indices[valid_indices_tmp,:])\n",
    "train_indices = np.delete(train_indices, valid_indices_tmp, axis=0)"
   ]
  },
  {
   "cell_type": "code",
   "execution_count": 6,
   "metadata": {
    "collapsed": false,
    "deletable": true,
    "editable": true
   },
   "outputs": [
    {
     "name": "stdout",
     "output_type": "stream",
     "text": [
      "Reading file ./saved_data/predictors/_SVD_test.csv\n",
      "Reading file ./saved_data/predictors/_SVD_train.csv\n",
      "Reading file ./saved_data/predictors/_simple_test.csv\n",
      "Reading file ./saved_data/predictors/_simple_train.csv\n",
      "Reading file ./saved_data/predictors/_SGD++_test.csv\n",
      "Reading file ./saved_data/predictors/_SGD++_train.csv\n",
      "Reading file ./saved_data/predictors/_Neighbourhood_pearson_test.csv\n",
      "Reading file ./saved_data/predictors/_Neighbourhood_pearson_train.csv\n",
      "Reading file ./saved_data/predictors/_Integrated_pearson_test.csv\n",
      "Reading file ./saved_data/predictors/_Integrated_pearson_train.csv\n",
      "Reading file ./saved_data/predictors/autoenc_ax0_pred_test.csv\n",
      "Reading file ./saved_data/predictors/autoenc_ax0_pred_train.csv\n",
      "Reading file ./saved_data/predictors/autoenc_ax1_pred_test.csv\n",
      "Reading file ./saved_data/predictors/autoenc_ax1_pred_train.csv\n"
     ]
    }
   ],
   "source": [
    "## Read data into xgboost matrices\n",
    "load_from_disk = False\n",
    "predictor_files = [\n",
    "  #\"./saved_data/predictors/_Bias_test.csv\",  \"./saved_data/predictors/_Bias_train.csv\",\n",
    "  \"./saved_data/predictors/_SVD_test.csv\",          \"./saved_data/predictors/_SVD_train.csv\",\n",
    "  \"./saved_data/predictors/_simple_test.csv\",     \"./saved_data/predictors/_simple_train.csv\",\n",
    "  \"./saved_data/predictors/_SGD++_test.csv\",         \"./saved_data/predictors/_SGD++_train.csv\",\n",
    "  \"./saved_data/predictors/_Neighbourhood_pearson_test.csv\", \"./saved_data/predictors/_Neighbourhood_pearson_train.csv\",\n",
    "  \"./saved_data/predictors/_Integrated_pearson_test.csv\",         \"./saved_data/predictors/_Integrated_pearson_train.csv\",\n",
    "  \"./saved_data/predictors/autoenc_ax0_pred_test.csv\", \"./saved_data/predictors/autoenc_ax0_pred_train.csv\",\n",
    "  \"./saved_data/predictors/autoenc_ax1_pred_test.csv\", \"./saved_data/predictors/autoenc_ax1_pred_train.csv\",\n",
    "]\n",
    "# Read feature vectors from disk\n",
    "train_stack = []\n",
    "test_stack  = []\n",
    "valid_stack = []\n",
    "#valid_labels = \n",
    "for pf in predictor_files:\n",
    "    data = read_data(pf)\n",
    "    if \"train\" in pf:\n",
    "        flat_tr_data = data[tuple([train_indices[:,0], train_indices[:,1]])]\n",
    "        train_stack.append(flat_tr_data)\n",
    "        flat_vl_data = data[tuple([valid_indices[:,0], valid_indices[:,1]])]\n",
    "        valid_stack.append(flat_vl_data)\n",
    "    elif \"test\" in pf:\n",
    "        flat_data = data[np.where(test_labels != 0)]\n",
    "        test_stack.append(flat_data)\n",
    "    else:\n",
    "        print(\"Unknown file: %s\" % pf)\n",
    "\n"
   ]
  },
  {
   "cell_type": "code",
   "execution_count": 8,
   "metadata": {
    "collapsed": false,
    "deletable": true,
    "editable": true
   },
   "outputs": [],
   "source": [
    "user_mean = np.empty_like(train_labels, dtype=\"float32\")\n",
    "item_mean = np.empty_like(train_labels, dtype=\"float32\")\n",
    "item_counts = np.empty_like(train_labels, dtype=\"float32\")\n",
    "user_counts = np.empty_like(train_labels, dtype=\"float32\")\n",
    "for u in range(matrix_size[0]):\n",
    "    user_mean[u,:] = np.mean(train_labels[u,:][train_labels[u,:] != 0])\n",
    "for u in range(matrix_size[0]):\n",
    "    user_counts[u,:] = len(train_labels[u,:][train_labels[u,:] != 0])\n",
    "for i in range(matrix_size[1]):\n",
    "    item_mean[:,i] = np.mean(train_labels[:,i][train_labels[:,i] != 0])\n",
    "for i in range(matrix_size[1]):\n",
    "    item_counts[:,i] = len(train_labels[:,i][train_labels[:,i] != 0])"
   ]
  },
  {
   "cell_type": "code",
   "execution_count": 10,
   "metadata": {
    "collapsed": false
   },
   "outputs": [],
   "source": []
  },
  {
   "cell_type": "code",
   "execution_count": 12,
   "metadata": {
    "collapsed": false
   },
   "outputs": [
    {
     "name": "stdout",
     "output_type": "stream",
     "text": [
      "3.84948579484\n",
      "-9.95197126195e-17\n"
     ]
    }
   ],
   "source": [
    "print(np.mean(train_stack))\n",
    "print(np.mean(new_train))"
   ]
  },
  {
   "cell_type": "code",
   "execution_count": 13,
   "metadata": {
    "collapsed": true
   },
   "outputs": [],
   "source": [
    "train_stack.append(user_mean[tuple([train_indices[:,0], train_indices[:,1]])])\n",
    "train_stack.append(user_counts[tuple([train_indices[:,0], train_indices[:,1]])])\n",
    "train_stack.append(item_mean[tuple([train_indices[:,0], train_indices[:,1]])])\n",
    "train_stack.append(item_counts[tuple([train_indices[:,0], train_indices[:,1]])])\n",
    "test_stack.append(user_mean[np.where(test_labels != 0)])\n",
    "test_stack.append(user_counts[np.where(test_labels != 0)])\n",
    "test_stack.append(item_mean[np.where(test_labels != 0)])\n",
    "test_stack.append(item_counts[np.where(test_labels != 0)])"
   ]
  },
  {
   "cell_type": "code",
   "execution_count": 14,
   "metadata": {
    "collapsed": true,
    "deletable": true,
    "editable": true
   },
   "outputs": [],
   "source": [
    "global_mean = np.empty_like(train_labels, dtype=\"float32\")\n",
    "global_mean[:,:] = np.mean(train_labels[train_labels != 0])\n",
    "\n",
    "train_stack.append(global_mean[tuple([train_indices[:,0], train_indices[:,1]])])\n",
    "test_stack.append(global_mean[np.where(test_labels != 0)])"
   ]
  },
  {
   "cell_type": "code",
   "execution_count": 15,
   "metadata": {
    "collapsed": true,
    "deletable": true,
    "editable": true
   },
   "outputs": [],
   "source": [
    "user_var = np.empty_like(train_labels, dtype=\"float32\")\n",
    "item_var = np.empty_like(train_labels, dtype=\"float32\")\n",
    "for u in range(matrix_size[0]):\n",
    "    user_var[u,:] = np.var(train_labels[u,:][train_labels[u,:] != 0])\n",
    "for i in range(matrix_size[1]):\n",
    "    item_var[:,i] = np.var(train_labels[:,i][train_labels[:,i] != 0])\n",
    "train_stack.append(user_var[tuple([train_indices[:,0], train_indices[:,1]])])\n",
    "train_stack.append(item_var[tuple([train_indices[:,0], train_indices[:,1]])])\n",
    "test_stack.append(user_var[np.where(test_labels != 0)])\n",
    "test_stack.append(item_var[np.where(test_labels != 0)])\n"
   ]
  },
  {
   "cell_type": "code",
   "execution_count": 16,
   "metadata": {
    "collapsed": false,
    "deletable": true,
    "editable": true
   },
   "outputs": [
    {
     "name": "stdout",
     "output_type": "stream",
     "text": [
      "(1176952, 14)\n",
      "(1176952,)\n",
      "(1176952, 14)\n"
     ]
    }
   ],
   "source": [
    "x_train = np.vstack(train_stack).T\n",
    "print(x_train.shape)\n",
    "y_train = train_labels[tuple([train_indices[:,0], train_indices[:,1]])]\n",
    "print(y_train.shape)\n",
    "\n",
    "if do_predictions:\n",
    "    x_test = np.vstack(test_stack).T\n",
    "    print(x_test.shape)\n",
    "    y_test = None\n",
    "else:\n",
    "    x_test = np.vstack(valid_stack).T\n",
    "    print(x_test.shape)\n",
    "    y_test = train_labels[tuple([valid_indices[:,0], valid_indices[:,1]])]\n",
    "    print(y_test.shape)\n"
   ]
  },
  {
   "cell_type": "code",
   "execution_count": 42,
   "metadata": {
    "collapsed": false,
    "deletable": true,
    "editable": true
   },
   "outputs": [],
   "source": [
    "\"\"\" Standardize predictors for regression\n",
    "\"\"\"\n",
    "from sklearn.preprocessing import StandardScaler\n",
    "scaler = StandardScaler()\n",
    "\n",
    "sc_x_train = scaler.fit_transform(x_train)\n",
    "sc_x_test = scaler.transform(x_test)\n",
    "sc_y_train = scaler.fit_transform(y_train[:,None])[:,0]"
   ]
  },
  {
   "cell_type": "code",
   "execution_count": 40,
   "metadata": {
    "collapsed": false,
    "deletable": true,
    "editable": true
   },
   "outputs": [
    {
     "name": "stdout",
     "output_type": "stream",
     "text": [
      "5-fold CV score: 0.682173 +- 0.003400\n"
     ]
    }
   ],
   "source": [
    "\"\"\" Perform ridge regression as an ensemble model\n",
    "\"\"\"\n",
    "from sklearn.model_selection import cross_val_score\n",
    "from sklearn.linear_model import Ridge, Lasso\n",
    "from sklearn.metrics import mean_squared_error, make_scorer\n",
    "## Least squares\n",
    "def RMSE(y_true, y_pred):\n",
    "    return np.sqrt(mean_squared_error(y_true, y_pred))\n",
    "\n",
    "ridge = Ridge(alpha=1.5, fit_intercept=True, normalize=False)\n",
    "scorer = make_scorer(RMSE, greater_is_better=False)\n",
    "cvs = cross_val_score(ridge, sc_x_train, sc_y_train, cv=5, n_jobs=-1, scoring=scorer)\n",
    "print(\"5-fold CV score: %f +- %f\" % (-np.mean(cvs), np.std(cvs)))\n",
    "ridge.fit(sc_x_train, sc_y_train)\n",
    "pred = ridge.predict(sc_x_test)\n",
    "pred = scaler.inverse_transform(pred[:,None])[:,0]\n",
    "for i in range(len(pred)):\n",
    "    if pred[i] < 1: pred[i] = 1\n",
    "    elif pred[i] > 5: pred[i] = 5\n"
   ]
  },
  {
   "cell_type": "code",
   "execution_count": 40,
   "metadata": {
    "collapsed": false,
    "deletable": true,
    "editable": true
   },
   "outputs": [
    {
     "name": "stdout",
     "output_type": "stream",
     "text": [
      "5-fold CV score with alpha=0.000000: 0.763348 +- 0.005233\n",
      "5-fold CV score with alpha=0.010000: 0.768207 +- 0.005717\n",
      "5-fold CV score with alpha=0.100000: 0.802070 +- 0.006053\n",
      "5-fold CV score with alpha=1.000000: 0.871382 +- 0.005686\n",
      "5-fold CV score with alpha=10.000000: 0.971308 +- 0.005893\n",
      "5-fold CV score with alpha=100.000000: 1.090060 +- 0.006317\n"
     ]
    }
   ],
   "source": [
    "\"\"\" CV doesn't work:(\n",
    "\"\"\"\n",
    "for alpha in [0, 0.01, 0.1, 1, 10, 100]:\n",
    "    ridge = Ridge(alpha=alpha, fit_intercept=True, normalize=True)\n",
    "    cvs = cross_val_score(ridge, x_train, y_train, cv=10, n_jobs=-1, scoring=scorer)\n",
    "    print(\"5-fold CV score with alpha=%f: %f +- %f\" % (alpha, -np.mean(cvs), np.std(cvs)))"
   ]
  },
  {
   "cell_type": "code",
   "execution_count": 41,
   "metadata": {
    "collapsed": false,
    "deletable": true,
    "editable": true
   },
   "outputs": [
    {
     "name": "stdout",
     "output_type": "stream",
     "text": [
      "Writing results to ./saved_data/submit_ridgereg.csv\n"
     ]
    }
   ],
   "source": [
    "\"\"\" Write submission to file\n",
    "\"\"\"\n",
    "submit_file = \"./saved_data/submit_ridgereg.csv\"\n",
    "print(\"Writing results to %s\" % submit_file)\n",
    "with open(submit_file, 'w') as fh:\n",
    "    fh.write(\"Id,Prediction\\n\")\n",
    "    indices = np.where(test_labels != 0)\n",
    "    for index in range(len(indices[0])):\n",
    "        u = indices[0][index]\n",
    "        i = indices[1][index]\n",
    "        fh.write(\"r%d_c%d,%f\\n\" % (u+1, i+1, pred[index]))"
   ]
  },
  {
   "cell_type": "code",
   "execution_count": 23,
   "metadata": {
    "collapsed": true,
    "deletable": true,
    "editable": true
   },
   "outputs": [],
   "source": [
    "\"\"\" From here onwards tentative of using xgboost, failed due to lack of valid cross-validation!\n",
    "\"\"\"\n",
    "d_train = xgb.DMatrix(x_train, label=y_train)\n",
    "d_valid = xgb.DMatrix(x_test, label=y_test)"
   ]
  },
  {
   "cell_type": "code",
   "execution_count": 142,
   "metadata": {
    "collapsed": true,
    "deletable": true,
    "editable": true
   },
   "outputs": [],
   "source": [
    "d_train = xgb.DMatrix(\"saved_data/train.buffer\")\n",
    "d_valid = xgb.DMatrix(\"saved_data/valid.buffer\")"
   ]
  },
  {
   "cell_type": "code",
   "execution_count": 10,
   "metadata": {
    "collapsed": false,
    "deletable": true,
    "editable": true
   },
   "outputs": [
    {
     "name": "stdout",
     "output_type": "stream",
     "text": [
      "(882714,)\n",
      "(294238,)\n"
     ]
    }
   ],
   "source": [
    "print(d_train.get_label().shape)\n",
    "print(d_valid.get_label().shape)"
   ]
  },
  {
   "cell_type": "code",
   "execution_count": 24,
   "metadata": {
    "collapsed": false,
    "deletable": true,
    "editable": true
   },
   "outputs": [
    {
     "name": "stdout",
     "output_type": "stream",
     "text": [
      "[0]\ttrain-rmse:1.07056\n",
      "Will train until train-rmse hasn't improved in 20 rounds.\n",
      "[10]\ttrain-rmse:0.859288\n",
      "[20]\ttrain-rmse:0.818638\n",
      "[30]\ttrain-rmse:0.803657\n",
      "[40]\ttrain-rmse:0.79679\n",
      "[50]\ttrain-rmse:0.792608\n",
      "[60]\ttrain-rmse:0.7893\n",
      "[70]\ttrain-rmse:0.786584\n",
      "[80]\ttrain-rmse:0.784191\n",
      "[90]\ttrain-rmse:0.781962\n",
      "[100]\ttrain-rmse:0.780204\n",
      "[110]\ttrain-rmse:0.778899\n",
      "[120]\ttrain-rmse:0.777666\n",
      "[130]\ttrain-rmse:0.776754\n",
      "[140]\ttrain-rmse:0.775787\n",
      "[150]\ttrain-rmse:0.774933\n",
      "[160]\ttrain-rmse:0.774274\n",
      "[170]\ttrain-rmse:0.773623\n",
      "[180]\ttrain-rmse:0.773202\n",
      "[190]\ttrain-rmse:0.772819\n"
     ]
    }
   ],
   "source": [
    "## XGBoost run\n",
    "params = {}\n",
    "params['objective'] = \"reg:linear\"\n",
    "params['base_score'] = np.mean(y_train)\n",
    "params['eval_metric'] = \"rmse\"\n",
    "params['seed'] = 123912\n",
    "params['eta'] = 0.1\n",
    "params['max_depth'] = 4\n",
    "params['min_child_weight'] = 2\n",
    "params['alpha'] = 10\n",
    "params['lambda'] = 10\n",
    "params['subsample'] = 0.1\n",
    "num_round = 200\n",
    "early_stop = 20\n",
    "\n",
    "watchlist = [(d_train, 'train')]\n",
    "if not do_predictions:\n",
    "    watchlist.append((d_valid, 'valid'))\n",
    "# Perform training.\n",
    "bst = xgb.train(params, d_train, num_round, watchlist, early_stopping_rounds=early_stop, verbose_eval=10)\n",
    "\n",
    "#if not do_predictions:\n",
    "#    cvresult = xgb.cv(params, d_train, num_boost_round=num_round, nfold=5,\n",
    "#            metrics='rmse', early_stopping_rounds=early_stop, verbose_eval=10)\n"
   ]
  },
  {
   "cell_type": "code",
   "execution_count": 155,
   "metadata": {
    "collapsed": false,
    "deletable": true,
    "editable": true,
    "scrolled": true
   },
   "outputs": [
    {
     "name": "stdout",
     "output_type": "stream",
     "text": [
      "[0]\ttrain-rmse:3.21031+0.000199725\ttest-rmse:3.21031+0.00133591\n",
      "[10]\ttrain-rmse:1.38993+0.000128936\ttest-rmse:1.38997+0.00117125\n",
      "[20]\ttrain-rmse:0.922725+0.000240366\ttest-rmse:0.922861+0.000818345\n",
      "[30]\ttrain-rmse:0.8331+0.000207216\ttest-rmse:0.833281+0.000854566\n"
     ]
    },
    {
     "ename": "KeyboardInterrupt",
     "evalue": "",
     "output_type": "error",
     "traceback": [
      "\u001b[0;31m--------------------------------------------------------------\u001b[0m",
      "\u001b[0;31mKeyboardInterrupt\u001b[0m            Traceback (most recent call last)",
      "\u001b[0;32m<ipython-input-155-037e4b3059ec>\u001b[0m in \u001b[0;36m<module>\u001b[0;34m()\u001b[0m\n\u001b[1;32m      1\u001b[0m xgb.cv(params, d_train, num_boost_round=num_round, nfold=5,\n\u001b[0;32m----> 2\u001b[0;31m             metrics='rmse', early_stopping_rounds=early_stop, verbose_eval=10)\n\u001b[0m",
      "\u001b[0;32m/home/gmeanti/source/kaggle/venv/lib/python3.5/site-packages/xgboost/training.py\u001b[0m in \u001b[0;36mcv\u001b[0;34m(params, dtrain, num_boost_round, nfold, stratified, folds, metrics, obj, feval, maximize, early_stopping_rounds, fpreproc, as_pandas, verbose_eval, show_stdv, seed, callbacks)\u001b[0m\n\u001b[1;32m    398\u001b[0m                            evaluation_result_list=None))\n\u001b[1;32m    399\u001b[0m         \u001b[0;32mfor\u001b[0m \u001b[0mfold\u001b[0m \u001b[0;32min\u001b[0m \u001b[0mcvfolds\u001b[0m\u001b[0;34m:\u001b[0m\u001b[0;34m\u001b[0m\u001b[0m\n\u001b[0;32m--> 400\u001b[0;31m             \u001b[0mfold\u001b[0m\u001b[0;34m.\u001b[0m\u001b[0mupdate\u001b[0m\u001b[0;34m(\u001b[0m\u001b[0mi\u001b[0m\u001b[0;34m,\u001b[0m \u001b[0mobj\u001b[0m\u001b[0;34m)\u001b[0m\u001b[0;34m\u001b[0m\u001b[0m\n\u001b[0m\u001b[1;32m    401\u001b[0m         \u001b[0mres\u001b[0m \u001b[0;34m=\u001b[0m \u001b[0maggcv\u001b[0m\u001b[0;34m(\u001b[0m\u001b[0;34m[\u001b[0m\u001b[0mf\u001b[0m\u001b[0;34m.\u001b[0m\u001b[0meval\u001b[0m\u001b[0;34m(\u001b[0m\u001b[0mi\u001b[0m\u001b[0;34m,\u001b[0m \u001b[0mfeval\u001b[0m\u001b[0;34m)\u001b[0m \u001b[0;32mfor\u001b[0m \u001b[0mf\u001b[0m \u001b[0;32min\u001b[0m \u001b[0mcvfolds\u001b[0m\u001b[0;34m]\u001b[0m\u001b[0;34m)\u001b[0m\u001b[0;34m\u001b[0m\u001b[0m\n\u001b[1;32m    402\u001b[0m \u001b[0;34m\u001b[0m\u001b[0m\n",
      "\u001b[0;32m/home/gmeanti/source/kaggle/venv/lib/python3.5/site-packages/xgboost/training.py\u001b[0m in \u001b[0;36mupdate\u001b[0;34m(self, iteration, fobj)\u001b[0m\n\u001b[1;32m    217\u001b[0m     \u001b[0;32mdef\u001b[0m \u001b[0mupdate\u001b[0m\u001b[0;34m(\u001b[0m\u001b[0mself\u001b[0m\u001b[0;34m,\u001b[0m \u001b[0miteration\u001b[0m\u001b[0;34m,\u001b[0m \u001b[0mfobj\u001b[0m\u001b[0;34m)\u001b[0m\u001b[0;34m:\u001b[0m\u001b[0;34m\u001b[0m\u001b[0m\n\u001b[1;32m    218\u001b[0m         \u001b[0;34m\"\"\"\"Update the boosters for one iteration\"\"\"\u001b[0m\u001b[0;34m\u001b[0m\u001b[0m\n\u001b[0;32m--> 219\u001b[0;31m         \u001b[0mself\u001b[0m\u001b[0;34m.\u001b[0m\u001b[0mbst\u001b[0m\u001b[0;34m.\u001b[0m\u001b[0mupdate\u001b[0m\u001b[0;34m(\u001b[0m\u001b[0mself\u001b[0m\u001b[0;34m.\u001b[0m\u001b[0mdtrain\u001b[0m\u001b[0;34m,\u001b[0m \u001b[0miteration\u001b[0m\u001b[0;34m,\u001b[0m \u001b[0mfobj\u001b[0m\u001b[0;34m)\u001b[0m\u001b[0;34m\u001b[0m\u001b[0m\n\u001b[0m\u001b[1;32m    220\u001b[0m \u001b[0;34m\u001b[0m\u001b[0m\n\u001b[1;32m    221\u001b[0m     \u001b[0;32mdef\u001b[0m \u001b[0meval\u001b[0m\u001b[0;34m(\u001b[0m\u001b[0mself\u001b[0m\u001b[0;34m,\u001b[0m \u001b[0miteration\u001b[0m\u001b[0;34m,\u001b[0m \u001b[0mfeval\u001b[0m\u001b[0;34m)\u001b[0m\u001b[0;34m:\u001b[0m\u001b[0;34m\u001b[0m\u001b[0m\n",
      "\u001b[0;32m/home/gmeanti/source/kaggle/venv/lib/python3.5/site-packages/xgboost/core.py\u001b[0m in \u001b[0;36mupdate\u001b[0;34m(self, dtrain, iteration, fobj)\u001b[0m\n\u001b[1;32m    804\u001b[0m \u001b[0;34m\u001b[0m\u001b[0m\n\u001b[1;32m    805\u001b[0m         \u001b[0;32mif\u001b[0m \u001b[0mfobj\u001b[0m \u001b[0;32mis\u001b[0m \u001b[0;32mNone\u001b[0m\u001b[0;34m:\u001b[0m\u001b[0;34m\u001b[0m\u001b[0m\n\u001b[0;32m--> 806\u001b[0;31m             \u001b[0m_check_call\u001b[0m\u001b[0;34m(\u001b[0m\u001b[0m_LIB\u001b[0m\u001b[0;34m.\u001b[0m\u001b[0mXGBoosterUpdateOneIter\u001b[0m\u001b[0;34m(\u001b[0m\u001b[0mself\u001b[0m\u001b[0;34m.\u001b[0m\u001b[0mhandle\u001b[0m\u001b[0;34m,\u001b[0m \u001b[0miteration\u001b[0m\u001b[0;34m,\u001b[0m \u001b[0mdtrain\u001b[0m\u001b[0;34m.\u001b[0m\u001b[0mhandle\u001b[0m\u001b[0;34m)\u001b[0m\u001b[0;34m)\u001b[0m\u001b[0;34m\u001b[0m\u001b[0m\n\u001b[0m\u001b[1;32m    807\u001b[0m         \u001b[0;32melse\u001b[0m\u001b[0;34m:\u001b[0m\u001b[0;34m\u001b[0m\u001b[0m\n\u001b[1;32m    808\u001b[0m             \u001b[0mpred\u001b[0m \u001b[0;34m=\u001b[0m \u001b[0mself\u001b[0m\u001b[0;34m.\u001b[0m\u001b[0mpredict\u001b[0m\u001b[0;34m(\u001b[0m\u001b[0mdtrain\u001b[0m\u001b[0;34m)\u001b[0m\u001b[0;34m\u001b[0m\u001b[0m\n",
      "\u001b[0;31mKeyboardInterrupt\u001b[0m: "
     ]
    }
   ],
   "source": [
    "xgb.cv(params, d_train, num_boost_round=num_round, nfold=5,\n",
    "            metrics='rmse', early_stopping_rounds=early_stop, verbose_eval=10)"
   ]
  },
  {
   "cell_type": "code",
   "execution_count": 56,
   "metadata": {
    "collapsed": false,
    "deletable": true,
    "editable": true
   },
   "outputs": [
    {
     "data": {
      "image/png": "[encoded data removed]",
      "text/plain": [
       "<matplotlib.figure.Figure at 0x7f37cd16c090>"
      ]
     },
     "metadata": {},
     "output_type": "display_data"
    }
   ],
   "source": [
    "# TODO: find a way to get the names of the features!\n",
    "xgb.plot_importance(bst, importance_type=\"gain\")#, max_num_features=None)\n",
    "plt.show()"
   ]
  },
  {
   "cell_type": "code",
   "execution_count": 25,
   "metadata": {
    "collapsed": false,
    "deletable": true,
    "editable": true
   },
   "outputs": [
    {
     "name": "stdout",
     "output_type": "stream",
     "text": [
      "Writing results to ./saved_data/submit_xgboost.csv\n"
     ]
    }
   ],
   "source": [
    "# Make predictions\n",
    "ypred = bst.predict(d_valid)\n",
    "submit_file = \"./saved_data/submit_xgboost.csv\"\n",
    "print(\"Writing results to %s\" % submit_file)\n",
    "with open(submit_file, 'w') as fh:\n",
    "    fh.write(\"Id,Prediction\\n\")\n",
    "    indices = np.where(test_labels != 0)\n",
    "    for index in range(len(indices[0])):\n",
    "        u = indices[0][index]\n",
    "        i = indices[1][index]\n",
    "        fh.write(\"r%d_c%d,%f\\n\" % (u+1, i+1, ypred[index]))"
   ]
  },
  {
   "cell_type": "code",
   "execution_count": 58,
   "metadata": {
    "collapsed": false,
    "deletable": true,
    "editable": true
   },
   "outputs": [],
   "source": [
    "# Stochastic Gradient Boosting Classification\n",
    "import pandas\n",
    "from sklearn import model_selection\n",
    "from sklearn.ensemble import GradientBoostingClassifier"
   ]
  },
  {
   "cell_type": "code",
   "execution_count": 64,
   "metadata": {
    "collapsed": false,
    "deletable": true,
    "editable": true
   },
   "outputs": [
    {
     "name": "stdout",
     "output_type": "stream",
     "text": [
      "[CV]  ................................................................\n",
      "[CV]  ................................................................\n",
      "[CV] ................................. , score=0.456600, total=  44.4s\n",
      "[CV]  ................................................................\n"
     ]
    },
    {
     "name": "stderr",
     "output_type": "stream",
     "text": [
      "[Parallel(n_jobs=2)]: Done   1 tasks      | elapsed:   44.7s\n"
     ]
    },
    {
     "name": "stdout",
     "output_type": "stream",
     "text": [
      "[CV] ................................. , score=0.459804, total=  45.1s\n",
      "[CV]  ................................................................\n"
     ]
    },
    {
     "name": "stderr",
     "output_type": "stream",
     "text": [
      "[Parallel(n_jobs=2)]: Done   2 out of   4 | elapsed:   45.3s remaining:   45.3s\n"
     ]
    },
    {
     "name": "stdout",
     "output_type": "stream",
     "text": [
      "[CV] ................................. , score=0.470523, total=  38.8s\n",
      "[CV] ................................. , score=0.475335, total=  40.4s\n",
      "0.465565307367\n"
     ]
    },
    {
     "name": "stderr",
     "output_type": "stream",
     "text": [
      "[Parallel(n_jobs=2)]: Done   4 out of   4 | elapsed:  1.4min remaining:    0.0s\n",
      "[Parallel(n_jobs=2)]: Done   4 out of   4 | elapsed:  1.4min finished\n"
     ]
    }
   ],
   "source": [
    "seed = 7\n",
    "num_trees = 5\n",
    "kfold = model_selection.KFold(n_splits=4, random_state=seed)\n",
    "model = GradientBoostingClassifier(n_estimators=num_trees, random_state=seed)\n",
    "results = model_selection.cross_val_score(model, x_train[:,1:], y_train, cv=kfold, verbose=10, n_jobs=2)\n",
    "print(results.mean())"
   ]
  },
  {
   "cell_type": "code",
   "execution_count": null,
   "metadata": {
    "collapsed": true,
    "deletable": true,
    "editable": true
   },
   "outputs": [],
   "source": []
  },
  {
   "cell_type": "code",
   "execution_count": null,
   "metadata": {
    "collapsed": false,
    "deletable": true,
    "editable": true
   },
   "outputs": [],
   "source": []
  },
  {
   "cell_type": "code",
   "execution_count": null,
   "metadata": {
    "collapsed": true,
    "deletable": true,
    "editable": true
   },
   "outputs": [],
   "source": []
  }
 ],
 "metadata": {
  "kernelspec": {
   "display_name": "Python 2",
   "language": "python",
   "name": "python2"
  },
  "language_info": {
   "codemirror_mode": {
    "name": "ipython",
    "version": 2
   },
   "file_extension": ".py",
   "mimetype": "text/x-python",
   "name": "python",
   "nbconvert_exporter": "python",
   "pygments_lexer": "ipython2",
   "version": "2.7.12"
  }
 },
 "nbformat": 4,
 "nbformat_minor": 2
}
