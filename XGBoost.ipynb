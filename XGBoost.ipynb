{
 "cells": [
  {
   "cell_type": "code",
   "execution_count": 119,
   "metadata": {
    "collapsed": false,
    "deletable": true,
    "editable": true
   },
   "outputs": [],
   "source": [
    "from __future__ import print_function, division\n",
    "import numpy as np\n",
    "import functools\n",
    "import matplotlib.pyplot as plt\n",
    "import time\n",
    "import xgboost as xgb"
   ]
  },
  {
   "cell_type": "code",
   "execution_count": 120,
   "metadata": {
    "collapsed": true,
    "deletable": true,
    "editable": true
   },
   "outputs": [],
   "source": [
    "matrix_size = (10000, 1000)\n",
    "## Helper functions\n",
    "def extract_line_data(l):\n",
    "    us = l.index('_')\n",
    "    row = int(l[1:us])-1\n",
    "    com = l.index(',')\n",
    "    col = int(l[us+2:com])-1\n",
    "    val = float(l[com+1:l.index('\\n')])\n",
    "    return (row, col, val)\n",
    "    \n",
    "def read_data(file_name):\n",
    "    print(\"Reading file %s\" % file_name)\n",
    "    Atr = np.zeros(matrix_size, dtype=float)\n",
    "    \n",
    "    with open(file_name, 'r') as fh:\n",
    "        data = fh.readlines()\n",
    "    \n",
    "    for i, l in enumerate(data[1:]):\n",
    "        row, col, val = extract_line_data(l)\n",
    "        Atr[row, col] = val\n",
    "\n",
    "    return Atr\n",
    "\n",
    "def write_predict(pfunc, M, fn):\n",
    "    with open(fn, 'w') as fh:\n",
    "        fh.write(\"Id,Prediction\\n\")\n",
    "        for x in range(M.shape[0]):\n",
    "            for y in range(M.shape[1]):\n",
    "                if M[x, y] == True:\n",
    "                    fh.write(\"r%d_c%d,%f\\n\" % (x+1, y+1, pfunc(x, y)))"
   ]
  },
  {
   "cell_type": "code",
   "execution_count": 144,
   "metadata": {
    "collapsed": true,
    "deletable": true,
    "editable": true
   },
   "outputs": [],
   "source": [
    "do_predictions = False"
   ]
  },
  {
   "cell_type": "code",
   "execution_count": 122,
   "metadata": {
    "collapsed": false,
    "deletable": true,
    "editable": true
   },
   "outputs": [
    {
     "name": "stdout",
     "output_type": "stream",
     "text": [
      "Reading file data_train.csv\n",
      "Reading file sampleSubmission.csv\n"
     ]
    }
   ],
   "source": [
    "# Read true training labels\n",
    "train_labels = read_data(\"data_train.csv\")\n",
    "test_labels = read_data(\"sampleSubmission.csv\")"
   ]
  },
  {
   "cell_type": "code",
   "execution_count": 132,
   "metadata": {
    "collapsed": false,
    "deletable": true,
    "editable": true
   },
   "outputs": [],
   "source": [
    "# Split validation and training\n",
    "train_indices = np.array(np.where(train_labels != 0)).T\n",
    "if do_predictions:\n",
    "    valid_size = 0\n",
    "else:\n",
    "    valid_size = train_indices.shape[0]//4\n",
    "\n",
    "valid_indices_tmp = np.random.choice(range(train_indices.shape[0]), \n",
    "                                     size=(valid_size, ), \n",
    "                                     replace=False)\n",
    "valid_indices = train_indices[valid_indices_tmp,:]\n",
    "train_indices = np.delete(train_indices, valid_indices_tmp, axis=0)"
   ]
  },
  {
   "cell_type": "code",
   "execution_count": 133,
   "metadata": {
    "collapsed": false,
    "deletable": true,
    "editable": true
   },
   "outputs": [
    {
     "name": "stdout",
     "output_type": "stream",
     "text": [
      "Reading file ./saved_data/final_submissions/autoenc_ax0_test.csv\n",
      "Reading file ./saved_data/final_submissions/autoenc_ax0_train.csv\n",
      "Reading file ./saved_data/final_submissions/autoenc_ax1_test.csv\n",
      "Reading file ./saved_data/final_submissions/autoenc_ax1_train.csv\n",
      "Reading file ./saved_data/final_submissions/neighbourhood_test.csv\n",
      "Reading file ./saved_data/final_submissions/neighbourhood_train.csv\n",
      "Reading file ./saved_data/final_submissions/SGD++_test.csv\n",
      "Reading file ./saved_data/final_submissions/SGD++_train.csv\n",
      "Reading file ./saved_data/final_submissions/integrated_test.csv\n",
      "Reading file ./saved_data/final_submissions/integrated_train.csv\n",
      "Reading file ./saved_data/final_submissions/simple_test.csv\n",
      "Reading file ./saved_data/final_submissions/simple_train.csv\n"
     ]
    }
   ],
   "source": [
    "## Read data into xgboost matrices\n",
    "load_from_disk = False\n",
    "predictor_files = [\n",
    "  \"./saved_data/final_submissions/autoenc_ax0_test.csv\",    \"./saved_data/final_submissions/autoenc_ax0_train.csv\",\n",
    "  \"./saved_data/final_submissions/autoenc_ax1_test.csv\",    \"./saved_data/final_submissions/autoenc_ax1_train.csv\", \n",
    "  \"./saved_data/final_submissions/neighbourhood_test.csv\",  \"./saved_data/final_submissions/neighbourhood_train.csv\",\n",
    "  \"./saved_data/final_submissions/SGD++_test.csv\",          \"./saved_data/final_submissions/SGD++_train.csv\",\n",
    "  \"./saved_data/final_submissions/integrated_test.csv\",     \"./saved_data/final_submissions/integrated_train.csv\",\n",
    "  \"./saved_data/final_submissions/simple_test.csv\",         \"./saved_data/final_submissions/simple_train.csv\"            \n",
    "]\n",
    "#predictor_files = [\n",
    "# \"./saved_data/final_submissions/submit_xgboost.csv_Integrated_test.csv\",    \"./saved_data/final_submissions/submit_xgboost.csv_Integrated_train.csv\",\n",
    "# \"./saved_data/final_submissions/submit_xgboost.csv_SGD++_test.csv\",         \"./saved_data/final_submissions/submit_xgboost.csv_SGD++_train.csv\",\n",
    "# \"./saved_data/final_submissions/submit_xgboost.csv_Neighbourhood_test.csv\", \"./saved_data/final_submissions/submit_xgboost.csv_Neighbourhood_train.csv\",\n",
    "# \"./saved_data/final_submissions/submit_xgboost.csv_simple_test.csv\",        \"./saved_data/final_submissions/submit_xgboost.csv_simple_train.csv\"]\n",
    "# Read feature vectors from disk\n",
    "train_stack = []\n",
    "test_stack = []\n",
    "valid_stack = []\n",
    "#valid_labels = \n",
    "for pf in predictor_files:\n",
    "    data = read_data(pf)\n",
    "    if \"train\" in pf:\n",
    "        flat_tr_data = data[tuple([train_indices[:,0], train_indices[:,1]])]\n",
    "        train_stack.append(flat_tr_data)\n",
    "        flat_vl_data = data[tuple([valid_indices[:,0], valid_indices[:,1]])]\n",
    "        valid_stack.append(flat_vl_data)\n",
    "    elif \"test\" in pf:\n",
    "        flat_data = data[np.where(test_labels != 0)]\n",
    "        test_stack.append(flat_data)\n",
    "    else:\n",
    "        print(\"Unknown file: %s\" % pf)\n",
    "\n"
   ]
  },
  {
   "cell_type": "code",
   "execution_count": 134,
   "metadata": {
    "collapsed": false,
    "deletable": true,
    "editable": true
   },
   "outputs": [
    {
     "name": "stdout",
     "output_type": "stream",
     "text": [
      "(1176952, 6)\n",
      "(1176952,)\n",
      "(1176952, 6)\n"
     ]
    }
   ],
   "source": [
    "x_train = np.vstack(train_stack).T\n",
    "print(x_train.shape)\n",
    "y_train = train_labels[tuple([train_indices[:,0], train_indices[:,1]])]\n",
    "print(y_train.shape)\n",
    "\n",
    "if do_predictions:\n",
    "    x_test = np.vstack(test_stack).T\n",
    "    print(x_test.shape)\n",
    "    y_test = None\n",
    "else:\n",
    "    x_test = np.vstack(valid_stack).T\n",
    "    print(x_test.shape)\n",
    "    y_test = train_labels[tuple([valid_indices[:,0], valid_indices[:,1]])]\n",
    "    print(y_test.shape)\n"
   ]
  },
  {
   "cell_type": "code",
   "execution_count": 135,
   "metadata": {
    "collapsed": true,
    "deletable": true,
    "editable": true
   },
   "outputs": [],
   "source": [
    "d_train = xgb.DMatrix(x_train, label=y_train)\n",
    "d_valid = xgb.DMatrix(x_test, label=y_test)"
   ]
  },
  {
   "cell_type": "code",
   "execution_count": 142,
   "metadata": {
    "collapsed": true,
    "deletable": true,
    "editable": true
   },
   "outputs": [],
   "source": [
    "d_train = xgb.DMatrix(\"saved_data/train.buffer\")\n",
    "d_valid = xgb.DMatrix(\"saved_data/valid.buffer\")"
   ]
  },
  {
   "cell_type": "code",
   "execution_count": 153,
   "metadata": {
    "collapsed": false
   },
   "outputs": [
    {
     "name": "stdout",
     "output_type": "stream",
     "text": [
      "(1176952,)\n",
      "(235194,)\n"
     ]
    }
   ],
   "source": [
    "print(d_train.get_label().shape)\n",
    "print(d_valid.get_label().shape)"
   ]
  },
  {
   "cell_type": "code",
   "execution_count": 154,
   "metadata": {
    "collapsed": false,
    "deletable": true,
    "editable": true
   },
   "outputs": [
    {
     "name": "stdout",
     "output_type": "stream",
     "text": [
      "[0]\ttrain-rmse:3.21021\n",
      "Will train until train-rmse hasn't improved in 20 rounds.\n",
      "[10]\ttrain-rmse:1.38995\n"
     ]
    },
    {
     "ename": "KeyboardInterrupt",
     "evalue": "",
     "output_type": "error",
     "traceback": [
      "\u001b[0;31m--------------------------------------------------------------\u001b[0m",
      "\u001b[0;31mKeyboardInterrupt\u001b[0m            Traceback (most recent call last)",
      "\u001b[0;32m<ipython-input-154-a10dfa3212c7>\u001b[0m in \u001b[0;36m<module>\u001b[0;34m()\u001b[0m\n\u001b[1;32m     18\u001b[0m \u001b[0;31m#    watchlist.append((d_valid, 'valid'))\u001b[0m\u001b[0;34m\u001b[0m\u001b[0;34m\u001b[0m\u001b[0m\n\u001b[1;32m     19\u001b[0m \u001b[0;31m# Perform training.\u001b[0m\u001b[0;34m\u001b[0m\u001b[0;34m\u001b[0m\u001b[0m\n\u001b[0;32m---> 20\u001b[0;31m \u001b[0mbst\u001b[0m \u001b[0;34m=\u001b[0m \u001b[0mxgb\u001b[0m\u001b[0;34m.\u001b[0m\u001b[0mtrain\u001b[0m\u001b[0;34m(\u001b[0m\u001b[0mparams\u001b[0m\u001b[0;34m,\u001b[0m \u001b[0md_train\u001b[0m\u001b[0;34m,\u001b[0m \u001b[0mnum_round\u001b[0m\u001b[0;34m,\u001b[0m \u001b[0mwatchlist\u001b[0m\u001b[0;34m,\u001b[0m \u001b[0mearly_stopping_rounds\u001b[0m\u001b[0;34m=\u001b[0m\u001b[0mearly_stop\u001b[0m\u001b[0;34m,\u001b[0m \u001b[0mverbose_eval\u001b[0m\u001b[0;34m=\u001b[0m\u001b[0;36m10\u001b[0m\u001b[0;34m)\u001b[0m\u001b[0;34m\u001b[0m\u001b[0m\n\u001b[0m\u001b[1;32m     21\u001b[0m \u001b[0;34m\u001b[0m\u001b[0m\n\u001b[1;32m     22\u001b[0m \u001b[0;31m#if not do_predictions:\u001b[0m\u001b[0;34m\u001b[0m\u001b[0;34m\u001b[0m\u001b[0m\n",
      "\u001b[0;32m/home/gmeanti/source/kaggle/venv/lib/python3.5/site-packages/xgboost/training.py\u001b[0m in \u001b[0;36mtrain\u001b[0;34m(params, dtrain, num_boost_round, evals, obj, feval, maximize, early_stopping_rounds, evals_result, verbose_eval, learning_rates, xgb_model, callbacks)\u001b[0m\n\u001b[1;32m    203\u001b[0m                            \u001b[0mevals\u001b[0m\u001b[0;34m=\u001b[0m\u001b[0mevals\u001b[0m\u001b[0;34m,\u001b[0m\u001b[0;34m\u001b[0m\u001b[0m\n\u001b[1;32m    204\u001b[0m                            \u001b[0mobj\u001b[0m\u001b[0;34m=\u001b[0m\u001b[0mobj\u001b[0m\u001b[0;34m,\u001b[0m \u001b[0mfeval\u001b[0m\u001b[0;34m=\u001b[0m\u001b[0mfeval\u001b[0m\u001b[0;34m,\u001b[0m\u001b[0;34m\u001b[0m\u001b[0m\n\u001b[0;32m--> 205\u001b[0;31m                            xgb_model=xgb_model, callbacks=callbacks)\n\u001b[0m\u001b[1;32m    206\u001b[0m \u001b[0;34m\u001b[0m\u001b[0m\n\u001b[1;32m    207\u001b[0m \u001b[0;34m\u001b[0m\u001b[0m\n",
      "\u001b[0;32m/home/gmeanti/source/kaggle/venv/lib/python3.5/site-packages/xgboost/training.py\u001b[0m in \u001b[0;36m_train_internal\u001b[0;34m(params, dtrain, num_boost_round, evals, obj, feval, xgb_model, callbacks)\u001b[0m\n\u001b[1;32m     74\u001b[0m         \u001b[0;31m# Skip the first update if it is a recovery step.\u001b[0m\u001b[0;34m\u001b[0m\u001b[0;34m\u001b[0m\u001b[0m\n\u001b[1;32m     75\u001b[0m         \u001b[0;32mif\u001b[0m \u001b[0mversion\u001b[0m \u001b[0;34m%\u001b[0m \u001b[0;36m2\u001b[0m \u001b[0;34m==\u001b[0m \u001b[0;36m0\u001b[0m\u001b[0;34m:\u001b[0m\u001b[0;34m\u001b[0m\u001b[0m\n\u001b[0;32m---> 76\u001b[0;31m             \u001b[0mbst\u001b[0m\u001b[0;34m.\u001b[0m\u001b[0mupdate\u001b[0m\u001b[0;34m(\u001b[0m\u001b[0mdtrain\u001b[0m\u001b[0;34m,\u001b[0m \u001b[0mi\u001b[0m\u001b[0;34m,\u001b[0m \u001b[0mobj\u001b[0m\u001b[0;34m)\u001b[0m\u001b[0;34m\u001b[0m\u001b[0m\n\u001b[0m\u001b[1;32m     77\u001b[0m             \u001b[0mbst\u001b[0m\u001b[0;34m.\u001b[0m\u001b[0msave_rabit_checkpoint\u001b[0m\u001b[0;34m(\u001b[0m\u001b[0;34m)\u001b[0m\u001b[0;34m\u001b[0m\u001b[0m\n\u001b[1;32m     78\u001b[0m             \u001b[0mversion\u001b[0m \u001b[0;34m+=\u001b[0m \u001b[0;36m1\u001b[0m\u001b[0;34m\u001b[0m\u001b[0m\n",
      "\u001b[0;32m/home/gmeanti/source/kaggle/venv/lib/python3.5/site-packages/xgboost/core.py\u001b[0m in \u001b[0;36mupdate\u001b[0;34m(self, dtrain, iteration, fobj)\u001b[0m\n\u001b[1;32m    804\u001b[0m \u001b[0;34m\u001b[0m\u001b[0m\n\u001b[1;32m    805\u001b[0m         \u001b[0;32mif\u001b[0m \u001b[0mfobj\u001b[0m \u001b[0;32mis\u001b[0m \u001b[0;32mNone\u001b[0m\u001b[0;34m:\u001b[0m\u001b[0;34m\u001b[0m\u001b[0m\n\u001b[0;32m--> 806\u001b[0;31m             \u001b[0m_check_call\u001b[0m\u001b[0;34m(\u001b[0m\u001b[0m_LIB\u001b[0m\u001b[0;34m.\u001b[0m\u001b[0mXGBoosterUpdateOneIter\u001b[0m\u001b[0;34m(\u001b[0m\u001b[0mself\u001b[0m\u001b[0;34m.\u001b[0m\u001b[0mhandle\u001b[0m\u001b[0;34m,\u001b[0m \u001b[0miteration\u001b[0m\u001b[0;34m,\u001b[0m \u001b[0mdtrain\u001b[0m\u001b[0;34m.\u001b[0m\u001b[0mhandle\u001b[0m\u001b[0;34m)\u001b[0m\u001b[0;34m)\u001b[0m\u001b[0;34m\u001b[0m\u001b[0m\n\u001b[0m\u001b[1;32m    807\u001b[0m         \u001b[0;32melse\u001b[0m\u001b[0;34m:\u001b[0m\u001b[0;34m\u001b[0m\u001b[0m\n\u001b[1;32m    808\u001b[0m             \u001b[0mpred\u001b[0m \u001b[0;34m=\u001b[0m \u001b[0mself\u001b[0m\u001b[0;34m.\u001b[0m\u001b[0mpredict\u001b[0m\u001b[0;34m(\u001b[0m\u001b[0mdtrain\u001b[0m\u001b[0;34m)\u001b[0m\u001b[0;34m\u001b[0m\u001b[0m\n",
      "\u001b[0;31mKeyboardInterrupt\u001b[0m: "
     ]
    }
   ],
   "source": [
    "## XGBoost run\n",
    "params = {}\n",
    "params['objective'] = \"reg:linear\"\n",
    "#params['base_score'] = np.mean(y_train)\n",
    "params['eval_metric'] = \"rmse\"\n",
    "params['seed'] = 12391\n",
    "params['eta'] = 0.1\n",
    "params['max_depth'] = 2\n",
    "params['min_child_weight'] = 1\n",
    "params['alpha'] = 100\n",
    "params['lambda'] = 100\n",
    "params['subsample'] = 0.5\n",
    "num_round = 100\n",
    "early_stop = 20\n",
    "\n",
    "watchlist = [(d_train, 'train')]\n",
    "#if not do_predictions:\n",
    "#    watchlist.append((d_valid, 'valid'))\n",
    "# Perform training.\n",
    "bst = xgb.train(params, d_train, num_round, watchlist, early_stopping_rounds=early_stop, verbose_eval=10)\n",
    "\n",
    "#if not do_predictions:\n",
    "#    cvresult = xgb.cv(params, d_train, num_boost_round=num_round, nfold=5,\n",
    "#            metrics='rmse', early_stopping_rounds=early_stop, verbose_eval=10)\n"
   ]
  },
  {
   "cell_type": "code",
   "execution_count": 155,
   "metadata": {
    "collapsed": false,
    "deletable": true,
    "editable": true
   },
   "outputs": [
    {
     "name": "stdout",
     "output_type": "stream",
     "text": [
      "[0]\ttrain-rmse:3.21031+0.000199725\ttest-rmse:3.21031+0.00133591\n",
      "[10]\ttrain-rmse:1.38993+0.000128936\ttest-rmse:1.38997+0.00117125\n",
      "[20]\ttrain-rmse:0.922725+0.000240366\ttest-rmse:0.922861+0.000818345\n",
      "[30]\ttrain-rmse:0.8331+0.000207216\ttest-rmse:0.833281+0.000854566\n"
     ]
    },
    {
     "ename": "KeyboardInterrupt",
     "evalue": "",
     "output_type": "error",
     "traceback": [
      "\u001b[0;31m--------------------------------------------------------------\u001b[0m",
      "\u001b[0;31mKeyboardInterrupt\u001b[0m            Traceback (most recent call last)",
      "\u001b[0;32m<ipython-input-155-037e4b3059ec>\u001b[0m in \u001b[0;36m<module>\u001b[0;34m()\u001b[0m\n\u001b[1;32m      1\u001b[0m xgb.cv(params, d_train, num_boost_round=num_round, nfold=5,\n\u001b[0;32m----> 2\u001b[0;31m             metrics='rmse', early_stopping_rounds=early_stop, verbose_eval=10)\n\u001b[0m",
      "\u001b[0;32m/home/gmeanti/source/kaggle/venv/lib/python3.5/site-packages/xgboost/training.py\u001b[0m in \u001b[0;36mcv\u001b[0;34m(params, dtrain, num_boost_round, nfold, stratified, folds, metrics, obj, feval, maximize, early_stopping_rounds, fpreproc, as_pandas, verbose_eval, show_stdv, seed, callbacks)\u001b[0m\n\u001b[1;32m    398\u001b[0m                            evaluation_result_list=None))\n\u001b[1;32m    399\u001b[0m         \u001b[0;32mfor\u001b[0m \u001b[0mfold\u001b[0m \u001b[0;32min\u001b[0m \u001b[0mcvfolds\u001b[0m\u001b[0;34m:\u001b[0m\u001b[0;34m\u001b[0m\u001b[0m\n\u001b[0;32m--> 400\u001b[0;31m             \u001b[0mfold\u001b[0m\u001b[0;34m.\u001b[0m\u001b[0mupdate\u001b[0m\u001b[0;34m(\u001b[0m\u001b[0mi\u001b[0m\u001b[0;34m,\u001b[0m \u001b[0mobj\u001b[0m\u001b[0;34m)\u001b[0m\u001b[0;34m\u001b[0m\u001b[0m\n\u001b[0m\u001b[1;32m    401\u001b[0m         \u001b[0mres\u001b[0m \u001b[0;34m=\u001b[0m \u001b[0maggcv\u001b[0m\u001b[0;34m(\u001b[0m\u001b[0;34m[\u001b[0m\u001b[0mf\u001b[0m\u001b[0;34m.\u001b[0m\u001b[0meval\u001b[0m\u001b[0;34m(\u001b[0m\u001b[0mi\u001b[0m\u001b[0;34m,\u001b[0m \u001b[0mfeval\u001b[0m\u001b[0;34m)\u001b[0m \u001b[0;32mfor\u001b[0m \u001b[0mf\u001b[0m \u001b[0;32min\u001b[0m \u001b[0mcvfolds\u001b[0m\u001b[0;34m]\u001b[0m\u001b[0;34m)\u001b[0m\u001b[0;34m\u001b[0m\u001b[0m\n\u001b[1;32m    402\u001b[0m \u001b[0;34m\u001b[0m\u001b[0m\n",
      "\u001b[0;32m/home/gmeanti/source/kaggle/venv/lib/python3.5/site-packages/xgboost/training.py\u001b[0m in \u001b[0;36mupdate\u001b[0;34m(self, iteration, fobj)\u001b[0m\n\u001b[1;32m    217\u001b[0m     \u001b[0;32mdef\u001b[0m \u001b[0mupdate\u001b[0m\u001b[0;34m(\u001b[0m\u001b[0mself\u001b[0m\u001b[0;34m,\u001b[0m \u001b[0miteration\u001b[0m\u001b[0;34m,\u001b[0m \u001b[0mfobj\u001b[0m\u001b[0;34m)\u001b[0m\u001b[0;34m:\u001b[0m\u001b[0;34m\u001b[0m\u001b[0m\n\u001b[1;32m    218\u001b[0m         \u001b[0;34m\"\"\"\"Update the boosters for one iteration\"\"\"\u001b[0m\u001b[0;34m\u001b[0m\u001b[0m\n\u001b[0;32m--> 219\u001b[0;31m         \u001b[0mself\u001b[0m\u001b[0;34m.\u001b[0m\u001b[0mbst\u001b[0m\u001b[0;34m.\u001b[0m\u001b[0mupdate\u001b[0m\u001b[0;34m(\u001b[0m\u001b[0mself\u001b[0m\u001b[0;34m.\u001b[0m\u001b[0mdtrain\u001b[0m\u001b[0;34m,\u001b[0m \u001b[0miteration\u001b[0m\u001b[0;34m,\u001b[0m \u001b[0mfobj\u001b[0m\u001b[0;34m)\u001b[0m\u001b[0;34m\u001b[0m\u001b[0m\n\u001b[0m\u001b[1;32m    220\u001b[0m \u001b[0;34m\u001b[0m\u001b[0m\n\u001b[1;32m    221\u001b[0m     \u001b[0;32mdef\u001b[0m \u001b[0meval\u001b[0m\u001b[0;34m(\u001b[0m\u001b[0mself\u001b[0m\u001b[0;34m,\u001b[0m \u001b[0miteration\u001b[0m\u001b[0;34m,\u001b[0m \u001b[0mfeval\u001b[0m\u001b[0;34m)\u001b[0m\u001b[0;34m:\u001b[0m\u001b[0;34m\u001b[0m\u001b[0m\n",
      "\u001b[0;32m/home/gmeanti/source/kaggle/venv/lib/python3.5/site-packages/xgboost/core.py\u001b[0m in \u001b[0;36mupdate\u001b[0;34m(self, dtrain, iteration, fobj)\u001b[0m\n\u001b[1;32m    804\u001b[0m \u001b[0;34m\u001b[0m\u001b[0m\n\u001b[1;32m    805\u001b[0m         \u001b[0;32mif\u001b[0m \u001b[0mfobj\u001b[0m \u001b[0;32mis\u001b[0m \u001b[0;32mNone\u001b[0m\u001b[0;34m:\u001b[0m\u001b[0;34m\u001b[0m\u001b[0m\n\u001b[0;32m--> 806\u001b[0;31m             \u001b[0m_check_call\u001b[0m\u001b[0;34m(\u001b[0m\u001b[0m_LIB\u001b[0m\u001b[0;34m.\u001b[0m\u001b[0mXGBoosterUpdateOneIter\u001b[0m\u001b[0;34m(\u001b[0m\u001b[0mself\u001b[0m\u001b[0;34m.\u001b[0m\u001b[0mhandle\u001b[0m\u001b[0;34m,\u001b[0m \u001b[0miteration\u001b[0m\u001b[0;34m,\u001b[0m \u001b[0mdtrain\u001b[0m\u001b[0;34m.\u001b[0m\u001b[0mhandle\u001b[0m\u001b[0;34m)\u001b[0m\u001b[0;34m)\u001b[0m\u001b[0;34m\u001b[0m\u001b[0m\n\u001b[0m\u001b[1;32m    807\u001b[0m         \u001b[0;32melse\u001b[0m\u001b[0;34m:\u001b[0m\u001b[0;34m\u001b[0m\u001b[0m\n\u001b[1;32m    808\u001b[0m             \u001b[0mpred\u001b[0m \u001b[0;34m=\u001b[0m \u001b[0mself\u001b[0m\u001b[0;34m.\u001b[0m\u001b[0mpredict\u001b[0m\u001b[0;34m(\u001b[0m\u001b[0mdtrain\u001b[0m\u001b[0;34m)\u001b[0m\u001b[0;34m\u001b[0m\u001b[0m\n",
      "\u001b[0;31mKeyboardInterrupt\u001b[0m: "
     ]
    }
   ],
   "source": [
    "xgb.cv(params, d_train, num_boost_round=num_round, nfold=5,\n",
    "            metrics='rmse', early_stopping_rounds=early_stop, verbose_eval=10)"
   ]
  },
  {
   "cell_type": "code",
   "execution_count": 137,
   "metadata": {
    "collapsed": false,
    "deletable": true,
    "editable": true
   },
   "outputs": [
    {
     "data": {
      "image/png": "[encoded data removed]",
      "text/plain": [
       "<matplotlib.figure.Figure at 0x7f84525130f0>"
      ]
     },
     "metadata": {},
     "output_type": "display_data"
    }
   ],
   "source": [
    "# TODO: find a way to get the names of the features!\n",
    "xgb.plot_importance(bst, importance_type=\"gain\")#, max_num_features=None)\n",
    "plt.show()"
   ]
  },
  {
   "cell_type": "code",
   "execution_count": 138,
   "metadata": {
    "collapsed": false,
    "deletable": true,
    "editable": true
   },
   "outputs": [
    {
     "name": "stdout",
     "output_type": "stream",
     "text": [
      "Writing results to ./saved_data/submit_xgboost.csv\n"
     ]
    }
   ],
   "source": [
    "# Make predictions\n",
    "ypred = bst.predict(d_valid)\n",
    "submit_file = \"./saved_data/submit_xgboost.csv\"\n",
    "print(\"Writing results to %s\" % submit_file)\n",
    "with open(submit_file, 'w') as fh:\n",
    "    fh.write(\"Id,Prediction\\n\")\n",
    "    indices = np.where(test_labels != 0)\n",
    "    for index in range(len(indices[0])):\n",
    "        u = indices[0][index]\n",
    "        i = indices[1][index]\n",
    "        fh.write(\"r%d_c%d,%f\\n\" % (u+1, i+1, ypred[index]))"
   ]
  },
  {
   "cell_type": "code",
   "execution_count": null,
   "metadata": {
    "collapsed": false,
    "deletable": true,
    "editable": true
   },
   "outputs": [],
   "source": []
  }
 ],
 "metadata": {
  "kernelspec": {
   "display_name": "Python 3 (ML)",
   "language": "python",
   "name": "venv"
  },
  "language_info": {
   "codemirror_mode": {
    "name": "ipython",
    "version": 3
   },
   "file_extension": ".py",
   "mimetype": "text/x-python",
   "name": "python",
   "nbconvert_exporter": "python",
   "pygments_lexer": "ipython3",
   "version": "3.5.2"
  }
 },
 "nbformat": 4,
 "nbformat_minor": 2
}
