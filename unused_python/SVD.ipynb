{
 "cells": [
  {
   "cell_type": "code",
   "execution_count": 1,
   "metadata": {
    "collapsed": true,
    "deletable": true,
    "editable": true
   },
   "outputs": [],
   "source": [
    "import numpy as np\n",
    "from scipy import sparse\n",
    "from scipy import stats\n",
    "from numpy import ma\n",
    "import functools\n",
    "import matplotlib.pyplot as plt\n",
    "import time\n",
    "from sklearn.metrics import mean_squared_error\n",
    "from sklearn.ensemble import GradientBoostingRegressor"
   ]
  },
  {
   "cell_type": "code",
   "execution_count": 2,
   "metadata": {
    "collapsed": false,
    "deletable": true,
    "editable": true
   },
   "outputs": [],
   "source": [
    "## Helper functions\n",
    "matrix_size = (10000, 1000)\n",
    "nusers = 10000\n",
    "nitems = 1000\n",
    "submit_file = \"submissions/submission.csv\"\n",
    "\n",
    "def extract_line_data(l):\n",
    "    us = l.index('_')\n",
    "    row = int(l[1:us])-1\n",
    "    com = l.index(',')\n",
    "    col = int(l[us+2:com])-1\n",
    "    val = int(l[com+1:l.index('\\n')])\n",
    "    return (row, col, val)\n",
    "    \n",
    "\n",
    "def read_data(file_name, test_percentage, seed=123):\n",
    "    np.random.seed(seed)\n",
    "    Atr = np.zeros(matrix_size, dtype=\"int\")\n",
    "    \n",
    "    with open(file_name, 'r') as fh:\n",
    "        data = fh.readlines()\n",
    "    data_size = len(data) - 1\n",
    "    \n",
    "    if test_percentage > 0:\n",
    "        Ats = np.zeros(matrix_size, dtype=\"int\")\n",
    "        Mts = np.zeros(matrix_size, dtype=\"bool\")\n",
    "        prob_test = np.random.rand(data_size)\n",
    "\n",
    "    for i, l in enumerate(data[1:]):\n",
    "        row, col, val = extract_line_data(l)\n",
    "        if test_percentage > 0 and prob_test[i] < test_percentage:\n",
    "            Ats[row, col] = val\n",
    "            Mts[row, col] = True\n",
    "        else:\n",
    "            Atr[row, col] = val\n",
    "    if test_percentage > 0:\n",
    "        return (Atr, Ats, Mts)\n",
    "    return Atr\n",
    "\n",
    "def calc_score(P, Ats):\n",
    "    if Ats is None:\n",
    "        return None\n",
    "    MAts = np.ma.array(Ats, mask=np.invert(Ats != 0))\n",
    "    SSE = np.square(P - MAts).sum()\n",
    "    tot = np.count_nonzero(Ats)\n",
    "    return np.sqrt(SSE/tot)\n",
    "\n",
    "\n",
    "def read_mask(file_name):\n",
    "    with open(file_name, 'r') as fh:\n",
    "        data = fh.readlines()\n",
    "    A = np.zeros(matrix_size, dtype=\"bool\")\n",
    "    for l in data[1:]:\n",
    "        row, col, _ = extract_line_data(l)\n",
    "        A[row, col] = True\n",
    "    return A\n",
    "\n",
    "def write_predict(pfunc, M, fn):\n",
    "    with open(fn, 'w') as fh:\n",
    "        fh.write(\"Id,Prediction\\n\")\n",
    "        for x in range(M.shape[0]):\n",
    "            for y in range(M.shape[1]):\n",
    "                if M[x, y] == True:\n",
    "                    fh.write(\"r%d_c%d,%f\\n\" % (x+1, y+1, pfunc(x, y)))\n",
    "\n",
    "def calc_score_predict(Test, func):\n",
    "    \"\"\"Calculate score given a number of desired elements and a prediction function\n",
    "    \"\"\"\n",
    "    if Test is None:\n",
    "        return 0, None\n",
    "    Apred = np.zeros_like(Test, dtype=\"float64\")\n",
    "    indices = np.where(Test != 0)\n",
    "    for index in range(len(indices[0])):\n",
    "        u = indices[0][index]\n",
    "        i = indices[1][index]\n",
    "        Apred[u, i] = func(u, i)\n",
    "    score = calc_score(Apred, Test)\n",
    "    return (score, Apred)\n",
    "\n",
    "def get_predictor(train, test, func):\n",
    "    train_indices = np.where(train != 0)\n",
    "    train_vec = np.zeros(len(train_indices[0]))\n",
    "    for index in range(len(train_indices[0])):\n",
    "        u = train_indices[0][index]\n",
    "        i = train_indices[1][index]\n",
    "        train_vec[index] = func(u, i)\n",
    "    if test is not None:\n",
    "        test_indices = np.where(test != 0)\n",
    "        test_vec = np.zeros(len(test_indices[0]))\n",
    "        for index in range(len(test_indices[0])):\n",
    "            u = test_indices[0][index]\n",
    "            i = test_indices[1][index]\n",
    "            test_vec[index] = func(u, i)\n",
    "    else:\n",
    "        test_vec = None\n",
    "    return (train_vec, test_vec)"
   ]
  },
  {
   "cell_type": "code",
   "execution_count": 3,
   "metadata": {
    "collapsed": true,
    "deletable": true,
    "editable": true
   },
   "outputs": [],
   "source": [
    "def plot_scores(tr_scores, ts_scores):\n",
    "    fig, ax = plt.subplots()\n",
    "    ax.plot(list(range(1, len(tr_scores)+1)), tr_scores, linestyle=\"-\", linewidth=3, label=\"Train\")\n",
    "    ax.plot(list(range(1, len(ts_scores)+1)), ts_scores, linestyle=\"--\", linewidth=3, label=\"Test\")\n",
    "    ax.set_xlabel(\"Iteration\")\n",
    "    ax.set_ylabel(\"MSE\")\n",
    "    ax.legend()\n",
    "    return ax"
   ]
  },
  {
   "cell_type": "code",
   "execution_count": 4,
   "metadata": {
    "collapsed": false,
    "deletable": true,
    "editable": true
   },
   "outputs": [],
   "source": [
    "## Read Data\n",
    "(Atr, Ats, Mts) = read_data(\"../data_train.csv\", 0.2)\n",
    "## These are only useful for the submission run.\n",
    "M = read_mask(\"../sampleSubmission.csv\")\n",
    "A = read_data(\"../data_train.csv\", 0)"
   ]
  },
  {
   "cell_type": "code",
   "execution_count": 5,
   "metadata": {
    "collapsed": false,
    "deletable": true,
    "editable": true
   },
   "outputs": [],
   "source": [
    "# Set the training matrix. Is either Atr or A\n",
    "Tr = Atr\n",
    "Ts = Ats\n",
    "imp_mask = Ts + Tr\n",
    "MaTr = np.ma.array(Tr, mask=np.invert(Tr != 0))\n",
    "MaTs = None #np.ma.array(Ts, mask=np.invert(Ts != 0))"
   ]
  },
  {
   "cell_type": "code",
   "execution_count": 6,
   "metadata": {
    "collapsed": false,
    "deletable": true,
    "editable": true
   },
   "outputs": [
    {
     "ename": "NameError",
     "evalue": "name 'Pc' is not defined",
     "output_type": "error",
     "traceback": [
      "\u001b[0;31m---------------------------------------------------------------------------\u001b[0m",
      "\u001b[0;31mNameError\u001b[0m                                 Traceback (most recent call last)",
      "\u001b[0;32m<ipython-input-6-bdd2adeb2623>\u001b[0m in \u001b[0;36m<module>\u001b[0;34m()\u001b[0m\n\u001b[0;32m----> 1\u001b[0;31m \u001b[0mcalc_score\u001b[0m\u001b[0;34m(\u001b[0m\u001b[0mPc\u001b[0m\u001b[0;34m,\u001b[0m \u001b[0mTs\u001b[0m\u001b[0;34m)\u001b[0m\u001b[0;34m\u001b[0m\u001b[0m\n\u001b[0m",
      "\u001b[0;31mNameError\u001b[0m: name 'Pc' is not defined"
     ]
    }
   ],
   "source": [
    "calc_score(Pc, Ts)"
   ]
  },
  {
   "cell_type": "code",
   "execution_count": 7,
   "metadata": {
    "collapsed": true,
    "deletable": true,
    "editable": true
   },
   "outputs": [],
   "source": [
    "def calc_score(P, Ats):\n",
    "    if Ats is None:\n",
    "        return None\n",
    "    #MAts = np.ma.array(Ats, mask=np.invert(Ats != 0))\n",
    "    SSE = np.square(P[Ats != 0] - Ats[Ats != 0]).sum()\n",
    "    tot = np.count_nonzero(Ats)\n",
    "    return np.sqrt(SSE/tot)"
   ]
  },
  {
   "cell_type": "code",
   "execution_count": 28,
   "metadata": {
    "collapsed": false,
    "deletable": true,
    "editable": true
   },
   "outputs": [
    {
     "data": {
      "text/plain": [
       "array([5, 4, 2, ..., 4, 4, 3])"
      ]
     },
     "execution_count": 28,
     "metadata": {},
     "output_type": "execute_result"
    }
   ],
   "source": [
    "Ats"
   ]
  },
  {
   "cell_type": "code",
   "execution_count": 21,
   "metadata": {
    "collapsed": false,
    "deletable": true,
    "editable": true
   },
   "outputs": [
    {
     "name": "stdout",
     "output_type": "stream",
     "text": [
      "5.21626893986\n",
      "4.34145835778\n",
      "3.68870152365\n",
      "1.88473169006\n",
      "3.29441823447\n",
      "4.79699524784\n",
      "3.75724186254\n",
      "4.57220691497\n",
      "4.31193054063\n",
      "4.3373207863\n",
      "4.16230656643\n",
      "4.44983139326\n",
      "4.7774948971\n",
      "4.6813475079\n",
      "2.8817435153\n",
      "2.63007337244\n",
      "4.31242454247\n",
      "1.71188757701\n",
      "7.07667186557\n"
     ]
    }
   ],
   "source": [
    "## Here we get the initial estimates for each item in the matrix.\n",
    "## This uses the mean movie score, and the mean user offset value.\n",
    "\n",
    "# Pc is  the output matrix (Tr with missing values filled in)\n",
    "Pc = np.array(Tr, dtype=\"float\")\n",
    "PcAug = np.array(Tr, dtype=\"float\")\n",
    "\n",
    "global_mean = np.mean(Tr[Tr != 0])\n",
    "K1 = 1\n",
    "K2 = 10\n",
    "movie_means = np.zeros((Tr.shape[1], ), dtype=\"float64\")\n",
    "for c in range(Tr.shape[1]):\n",
    "    obs_ratings = Tr[Tr[:,c] != 0, c]\n",
    "    movie_means[c] = (np.sum(obs_ratings) - global_mean*len(obs_ratings)) / (K1 + len(obs_ratings))\n",
    "\n",
    "user_offsets = np.zeros((Tr.shape[0], ), dtype=\"float64\")\n",
    "for r in range(Tr.shape[0]):\n",
    "    offsets = []\n",
    "    movie_indices = np.where(Tr[r,:] != 0)[0]\n",
    "    for movie_i in movie_indices:\n",
    "        offsets.append(Tr[r,movie_i] - movie_means[movie_i])\n",
    "        if r == 0:\n",
    "            print(offsets[-1])\n",
    "    user_offsets[r] = (np.sum(offsets) - global_mean*len(movie_indices)) / (K2 + len(movie_indices))\n",
    "    \n",
    "    ## This for loop version keeps the original Tr values in Pc\n",
    "    for movie_i in np.where(Tr[r,:] == 0):\n",
    "        PcAug[r, movie_i] = movie_means[movie_i] + user_offsets[r] + global_mean\n",
    "    ## Here we replace all values with the baseline\n",
    "    for movie_i in range(len(Tr[r,:])):\n",
    "        Pc[r, movie_i] = movie_means[movie_i] + user_offsets[r] + global_mean\n",
    "\n",
    "bias_predictor = get_predictor(Tr, Ts, lambda u, i: Pc[u, i])\n",
    "print(calc_score(Pc, Ts))"
   ]
  },
  {
   "cell_type": "code",
   "execution_count": 132,
   "metadata": {
    "collapsed": false,
    "deletable": true,
    "editable": true
   },
   "outputs": [
    {
     "ename": "SyntaxError",
     "evalue": "invalid syntax (<ipython-input-132-91aeba234f6e>, line 1)",
     "output_type": "error",
     "traceback": [
      "\u001b[0;36m  File \u001b[0;32m\"<ipython-input-132-91aeba234f6e>\"\u001b[0;36m, line \u001b[0;32m1\u001b[0m\n\u001b[0;31m    K1 = 25, K2 = 10  -> 0.998919752974\u001b[0m\n\u001b[0m                       ^\u001b[0m\n\u001b[0;31mSyntaxError\u001b[0m\u001b[0;31m:\u001b[0m invalid syntax\n"
     ]
    }
   ],
   "source": [
    "K1 = 25, K2 = 10  -> 0.998919752974\n",
    "K1 = 25, K2 = 100 -> 1.00360263555\n",
    "K1 = 25, K2 = 50  -> 1.0004006648\n",
    "K1 = 25, K2 = 3   -> 0.999388710244\n",
    "K1 = 100, K2 = 10 -> 1.00106090792\n",
    "K1 = 10, K2 = 10  -> 0.998608565662\n",
    "K1 = 5, K2 = 10   -> 0.998527216628\n",
    "K1 = 1, K2 = 10   -> 0.998475180961\n",
    "K1 = 1, K2 = 1    -> 0.999216234589"
   ]
  },
  {
   "cell_type": "code",
   "execution_count": 9,
   "metadata": {
    "collapsed": false,
    "deletable": true,
    "editable": true
   },
   "outputs": [],
   "source": [
    "u, s, v = np.linalg.svd(PcAug, full_matrices=False)"
   ]
  },
  {
   "cell_type": "code",
   "execution_count": 40,
   "metadata": {
    "collapsed": false,
    "deletable": true,
    "editable": true
   },
   "outputs": [
    {
     "name": "stdout",
     "output_type": "stream",
     "text": [
      "Score: 0.993266\n"
     ]
    }
   ],
   "source": [
    "k = 12\n",
    "# Truncate USV\n",
    "Uk = u[:,0:k]\n",
    "Sk = np.diag(s[:k])\n",
    "Vk = v[0:k,:]\n",
    "\n",
    "Xappr = np.matmul(np.matmul(Uk , Sk) , Vk)\n",
    "\n",
    "def clip(val):\n",
    "    if val < 1: return 1\n",
    "    if val > 5: return 5\n",
    "    return val\n",
    "\n",
    "def predict(u, i):\n",
    "    # return np.dot(Ukp[u,:], Vkp[:,i])\n",
    "    return clip(Xappr[u, i])\n",
    "\n",
    "score, Tr_approx = calc_score_predict(Ts, predict)\n",
    "print(\"Score: %f\" % score)\n",
    "#SVD_predictor = get_predictor(Tr, Ts, predict)"
   ]
  },
  {
   "cell_type": "code",
   "execution_count": 17,
   "metadata": {
    "collapsed": false
   },
   "outputs": [
    {
     "data": {
      "text/plain": [
       "array([-0.01014621,  0.00172488, -0.00374513, -0.00022411,  0.00018783,\n",
       "       -0.00160911,  0.00538781,  0.00200497, -0.00155619,  0.00907024,\n",
       "       -0.00114726, -0.00231581])"
      ]
     },
     "execution_count": 17,
     "metadata": {},
     "output_type": "execute_result"
    }
   ],
   "source": [
    "Uk[0,:]"
   ]
  },
  {
   "cell_type": "code",
   "execution_count": 26,
   "metadata": {
    "collapsed": false,
    "deletable": true,
    "editable": true,
    "scrolled": false
   },
   "outputs": [
    {
     "data": {
      "image/png": "[encoded data removed]",
      "text/plain": [
       "<matplotlib.figure.Figure at 0x7f305dfb9eb8>"
      ]
     },
     "metadata": {},
     "output_type": "display_data"
    }
   ],
   "source": [
    "# Do some validation for the optimal value of k.\n",
    "scores = []\n",
    "ks = range(1, 50, 2)\n",
    "for k in ks:\n",
    "    Uk = u[:,0:k]\n",
    "    Vk = v[0:k,:]\n",
    "    Sk = s[:k]\n",
    "    Tr_approx = np.dot(np.dot(Uk, np.diag(Sk)), Vk)\n",
    "    Tr_approx\n",
    "    scores.append(calc_score(Tr_approx, Ts))\n",
    "fig, ax = plt.subplots()\n",
    "ax.plot(ks, scores, linewidth=3)\n",
    "ax.set_xlabel(\"k\")\n",
    "ax.set_ylabel(\"Error\")\n",
    "ax.set_xlim([0, 50])\n",
    "plt.show()\n",
    "# Results seem to favor low values of k between 8 and 15. Chosen: 10"
   ]
  },
  {
   "cell_type": "code",
   "execution_count": 6,
   "metadata": {
    "collapsed": true,
    "deletable": true,
    "editable": true
   },
   "outputs": [],
   "source": [
    "s = {\n",
    "    \"max_iter\": 31,\n",
    "    \"random_seed\": 2895612,\n",
    "    \"max_neigh\": 100,\n",
    "    \"num_factors\": 15,\n",
    "    \"lrate_reduction\": 0.9,\n",
    "    \"calc_train_score\": 2,\n",
    "    \"test\": True,\n",
    "}"
   ]
  },
  {
   "cell_type": "code",
   "execution_count": 11,
   "metadata": {
    "collapsed": false,
    "deletable": true,
    "editable": true
   },
   "outputs": [
    {
     "name": "stdout",
     "output_type": "stream",
     "text": [
      "Iteration 0 took 26.10 seconds. training score: 1.0172576 - test score: 1.0225735\n",
      "Iteration 1 took 22.50 seconds. training score: nan - test score: 1.0112889\n",
      "Iteration 2 took 25.83 seconds. training score: 0.9983953 - test score: 1.0069233\n",
      "Iteration 3 took 22.52 seconds. training score: nan - test score: 1.0047915\n",
      "Iteration 4 took 26.03 seconds. training score: 0.9935312 - test score: 1.0036175\n",
      "Iteration 5 took 22.71 seconds. training score: nan - test score: 1.0029179\n",
      "Iteration 6 took 25.90 seconds. training score: 0.9914814 - test score: 1.0024764\n",
      "Iteration 7 took 22.45 seconds. training score: nan - test score: 1.0021852\n",
      "Iteration 8 took 25.98 seconds. training score: 0.9904047 - test score: 1.0019863\n",
      "Iteration 9 took 24.06 seconds. training score: nan - test score: 1.0018465\n",
      "Stopped because reached max iteration.\n"
     ]
    },
    {
     "data": {
      "image/png": "[encoded data removed]",
      "text/plain": [
       "<matplotlib.figure.Figure at 0x7fc5e9b504d0>"
      ]
     },
     "metadata": {},
     "output_type": "display_data"
    }
   ],
   "source": [
    "## Stochastic Gradient Descent --START--\n",
    "s[\"max_iter\"] = 10\n",
    "np.random.seed(s[\"random_seed\"])\n",
    "tr_scores = []; ts_scores = []\n",
    "lrate_bu = 3*10**(-3) # Parameter values come from BellJor2009\n",
    "lrate_bi = 2*10**(-3)\n",
    "regl_bu = 3*10**(-3)\n",
    "regl_bi = 3*10**(-3)\n",
    "lrate = 0.001\n",
    "regl = 0.01\n",
    "## Prepare the shuffled indices\n",
    "indices = np.where(Tr != 0)\n",
    "shuf_indices = list(range(len(indices[0])))\n",
    "np.random.shuffle(shuf_indices)\n",
    "\n",
    "user_vecs = np.random.normal(scale=1./s[\"num_factors\"],\\\n",
    "                             size=(nusers, s[\"num_factors\"]))\n",
    "item_vecs = np.random.normal(scale=1./s[\"num_factors\"],\n",
    "                             size=(nitems, s[\"num_factors\"]))\n",
    "user_bias = np.zeros(nusers)\n",
    "item_bias = np.zeros(nitems)\n",
    "global_bias = np.mean(Tr[np.where(Tr != 0)])\n",
    "def predict(u, i):\n",
    "    return global_bias + user_bias[u] + item_bias[i] + \\\n",
    "                 user_vecs[u,:].dot(item_vecs[i,].T)\n",
    "prev_score = None\n",
    "for iteration in range(s[\"max_iter\"]):\n",
    "    start = time.clock()\n",
    "    for q, iindex in enumerate(shuf_indices):\n",
    "        u = indices[0][iindex]\n",
    "        i = indices[1][iindex]\n",
    "\n",
    "        prediction = predict(u, i)\n",
    "        err = Tr[u, i] - prediction\n",
    "\n",
    "        user_bias[u] += lrate_bu * (err - regl_bu * user_bias[u])\n",
    "        item_bias[i] += lrate_bi * (err - regl_bi * item_bias[i])\n",
    "\n",
    "        user_vecs[u,:] += lrate * (err * item_vecs[i,:] - regl * user_vecs[u,:])\n",
    "        item_vecs[i,:] += lrate * (err * user_vecs[u,:] - regl * item_vecs[i,:])\n",
    "    tr_score = np.nan\n",
    "    if iteration % s[\"calc_train_score\"] == 0:\n",
    "        tr_score = calc_score_predict(Tr, predict)[0]\n",
    "    tr_scores.append(tr_score)\n",
    "    if Ts is not None and s[\"test\"]:\n",
    "        ts_score = calc_score_predict(Ts, predict)[0]; ts_scores.append(ts_score)\n",
    "        stop_score = ts_score\n",
    "    else:\n",
    "        ts_score = np.nan\n",
    "        stop_score = tr_score\n",
    "    print(\"Iteration %d took %.2f seconds. training score: %.7f - test score: %.7f\" % \n",
    "          (iteration, time.clock() - start, tr_score, ts_score))\n",
    "    if prev_score is not None and not np.isnan(stop_score) and stop_score > prev_score:\n",
    "        print(\"Stopping due to increase in test score.\")\n",
    "        break\n",
    "    prev_score = stop_score\n",
    "    lrate_bu = lrate_bu * s[\"lrate_reduction\"]\n",
    "    lrate_bi = lrate_bi * s[\"lrate_reduction\"]\n",
    "    lrate = lrate * s[\"lrate_reduction\"]\n",
    "\n",
    "if iteration == s[\"max_iter\"]-1:\n",
    "    print(\"Stopped because reached max iteration.\")\n",
    "plot_scores(tr_scores, ts_scores)\n",
    "plt.show()\n",
    "\n",
    "SGD_base_pred = get_predictor(Tr, Ts, predict)\n"
   ]
  },
  {
   "cell_type": "code",
   "execution_count": 12,
   "metadata": {
    "collapsed": false,
    "deletable": true,
    "editable": true
   },
   "outputs": [
    {
     "data": {
      "text/plain": [
       "array([-0.03518093,  0.01532792,  0.00106233,  0.05895361,  0.04511779,\n",
       "        0.01059721,  0.06407626, -0.00943232, -0.04734726,  0.04892893,\n",
       "       -0.0898168 ,  0.0417718 , -0.09368563, -0.061132  ,  0.13488777])"
      ]
     },
     "execution_count": 12,
     "metadata": {},
     "output_type": "execute_result"
    }
   ],
   "source": []
  },
  {
   "cell_type": "code",
   "execution_count": null,
   "metadata": {
    "collapsed": true,
    "deletable": true,
    "editable": true
   },
   "outputs": [],
   "source": [
    "Iteration 0 took 13.09 seconds. training score: nan - test score: 1.0225735\n",
    "Iteration 1 took 15.73 seconds. training score: 1.0035926 - test score: 1.0109389\n",
    "Iteration 2 took 16.37 seconds. training score: 0.9977268 - test score: 1.0064456\n",
    "Iteration 3 took 15.77 seconds. training score: 0.9945815 - test score: 1.0042921\n",
    "Iteration 4 took 14.12 seconds. training score: nan - test score: 1.0031443\n",
    "Iteration 5 took 15.74 seconds. training score: 0.9914423 - test score: 1.0024904\n",
    "Iteration 6 took 15.54 seconds. training score: 0.9905796 - test score: 1.0021002\n",
    "Iteration 7 took 15.68 seconds. training score: 0.9899503 - test score: 1.0018596\n",
    "Iteration 8 took 13.43 seconds. training score: nan - test score: 1.0017080\n",
    "Iteration 9 took 15.75 seconds. training score: 0.9890982 - test score: 1.0016111\n",
    "Iteration 10 took 15.44 seconds. training score: 0.9887961 - test score: 1.0015490\n",
    "Iteration 11 took 15.66 seconds. training score: 0.9885467 - test score: 1.0015094\n",
    "Iteration 12 took 13.56 seconds. training score: nan - test score: 1.0014849\n",
    "Iteration 13 took 15.58 seconds. training score: 0.9881566 - test score: 1.0014703\n",
    "Iteration 14 took 15.54 seconds. training score: 0.9880001 - test score: 1.0014625\n",
    "Iteration 15 took 16.02 seconds. training score: 0.9878623 - test score: 1.0014595\n",
    "Iteration 16 took 13.81 seconds. training score: nan - test score: 1.0014596\n",
    "Stopping due to increase in test score."
   ]
  },
  {
   "cell_type": "code",
   "execution_count": 291,
   "metadata": {
    "collapsed": false,
    "deletable": true,
    "editable": true
   },
   "outputs": [
    {
     "data": {
      "image/png": "[encoded data removed]",
      "text/plain": [
       "<matplotlib.figure.Figure at 0x7fae151fc550>"
      ]
     },
     "metadata": {},
     "output_type": "display_data"
    }
   ],
   "source": [
    "plot_scores(tr_scores, ts_scores)\n",
    "plt.show()"
   ]
  },
  {
   "cell_type": "code",
   "execution_count": 144,
   "metadata": {
    "collapsed": false,
    "deletable": true,
    "editable": true
   },
   "outputs": [
    {
     "name": "stdout",
     "output_type": "stream",
     "text": [
      "Iteration 0 took 102.44 seconds. training score: 0.9954649 - test score: nan\n",
      "Iteration 1 took 75.85 seconds. training score: nan - test score: nan\n",
      "Iteration 2 took 76.51 seconds. training score: nan - test score: nan\n",
      "Iteration 3 took 76.76 seconds. training score: nan - test score: nan\n",
      "Iteration 4 took 78.30 seconds. training score: nan - test score: nan\n",
      "Iteration 5 took 77.15 seconds. training score: nan - test score: nan\n",
      "Iteration 6 took 77.87 seconds. training score: nan - test score: nan\n",
      "Iteration 7 took 76.50 seconds. training score: nan - test score: nan\n",
      "Iteration 8 took 76.58 seconds. training score: nan - test score: nan\n",
      "Iteration 9 took 76.39 seconds. training score: nan - test score: nan\n",
      "Iteration 10 took 105.44 seconds. training score: 0.9643543 - test score: nan\n",
      "Iteration 11 took 75.22 seconds. training score: nan - test score: nan\n",
      "Iteration 12 took 79.41 seconds. training score: nan - test score: nan\n",
      "Iteration 13 took 80.07 seconds. training score: nan - test score: nan\n",
      "Iteration 14 took 79.99 seconds. training score: nan - test score: nan\n",
      "Iteration 15 took 79.65 seconds. training score: nan - test score: nan\n",
      "Iteration 16 took 79.22 seconds. training score: nan - test score: nan\n",
      "Iteration 17 took 78.10 seconds. training score: nan - test score: nan\n",
      "Iteration 18 took 80.01 seconds. training score: nan - test score: nan\n",
      "Iteration 19 took 76.15 seconds. training score: nan - test score: nan\n",
      "Iteration 20 took 101.97 seconds. training score: 0.9480720 - test score: nan\n",
      "Iteration 21 took 75.47 seconds. training score: nan - test score: nan\n",
      "Iteration 22 took 75.58 seconds. training score: nan - test score: nan\n",
      "Iteration 23 took 73.43 seconds. training score: nan - test score: nan\n",
      "Iteration 24 took 72.74 seconds. training score: nan - test score: nan\n",
      "Iteration 25 took 72.51 seconds. training score: nan - test score: nan\n",
      "Iteration 26 took 72.63 seconds. training score: nan - test score: nan\n",
      "Iteration 27 took 73.82 seconds. training score: nan - test score: nan\n",
      "Iteration 28 took 73.54 seconds. training score: nan - test score: nan\n",
      "Iteration 29 took 82.07 seconds. training score: nan - test score: nan\n",
      "Iteration 30 took 115.54 seconds. training score: 0.9417811 - test score: nan\n",
      "Stopped because reached max iteration.\n"
     ]
    },
    {
     "data": {
      "image/png": "[encoded data removed]",
      "text/plain": [
       "<matplotlib.figure.Figure at 0x7f3060e58588>"
      ]
     },
     "metadata": {},
     "output_type": "display_data"
    }
   ],
   "source": [
    "## SVD++\n",
    "## From http://cs.rochester.edu/twiki/pub/Main/HarpSeminar/Factorization_Meets_the_Neighborhood-_a_Multifaceted_Collaborative_Filtering_Model.pdf\n",
    "np.random.seed(s[\"random_seed\"])\n",
    "tr_scores = []; ts_scores = []\n",
    "lrate1 = 0.007; lrate2 = 0.007  # Learning rate\n",
    "regl6 = 0.005; regl7 = 0.015    # Regularization\n",
    "## Prepare the shuffled indices\n",
    "indices = np.where(Tr != 0)\n",
    "shuf_indices = list(range(len(indices[0])))\n",
    "np.random.shuffle(shuf_indices)\n",
    "\n",
    "user_vecs = np.random.normal(scale=1./s[\"num_factors\"],\\\n",
    "                             size=(nusers, s[\"num_factors\"]))\n",
    "item_vecs = np.random.normal(scale=1./s[\"num_factors\"],\n",
    "                             size=(nitems, s[\"num_factors\"]))\n",
    "user_bias = np.zeros(nusers)\n",
    "item_bias = np.zeros(nitems)\n",
    "y = np.zeros((nitems, s[\"num_factors\"]))\n",
    "global_bias = np.mean(Tr[np.where(Tr != 0)])\n",
    "def predict(u, i):\n",
    "    d = {}\n",
    "    d[\"which_num_u\"] = np.where(Tr[u,:] != 0)[0]\n",
    "    d[\"num_u\"] = 1/np.sqrt(len(d[\"which_num_u\"]))\n",
    "    d[\"sum_y\"] = d[\"num_u\"] * np.sum(y[d[\"which_num_u\"]], axis=0) + user_vecs[u,:]\n",
    "    d[\"prediction\"] = global_bias + user_bias[u] + item_bias[i] + \\\n",
    "                            item_vecs[i,:].T.dot(d[\"sum_y\"])\n",
    "    return d\n",
    "\n",
    "prev_score = None\n",
    "for iteration in range(s[\"max_iter\"]):\n",
    "    start = time.process_time()\n",
    "    lreg1 = lrate1 * regl6\n",
    "    lreg2 = lrate2 * regl7\n",
    "    for q, iindex in enumerate(shuf_indices):\n",
    "        u = indices[0][iindex]\n",
    "        i = indices[1][iindex]\n",
    "\n",
    "        d = predict(u, i)\n",
    "        lerr = lrate1 * (Tr[u, i] - d[\"prediction\"])\n",
    "        \n",
    "        user_bias[u] += lerr - lreg1 * user_bias[u]\n",
    "        item_bias[i] += lerr - lreg1 * item_bias[i]\n",
    "        \n",
    "        user_vecs[u,:] += lerr * item_vecs[i,:] - lreg2 * user_vecs[u,:]\n",
    "        item_vecs[i,:] += lerr * d[\"sum_y\"] - lreg2 * item_vecs[i,:]\n",
    "        \n",
    "        y[d[\"which_num_u\"]] += lerr * item_vecs[i,:] * d[\"num_u\"] - \\\n",
    "                                lreg2 * y[d[\"which_num_u\"]]\n",
    "    tr_score = np.nan\n",
    "    if iteration % s[\"calc_train_score\"] == 0:\n",
    "        tr_score = calc_score_predict(Tr, lambda u,i: predict(u, i)[\"prediction\"])[0]\n",
    "    tr_scores.append(tr_score)\n",
    "    if Ts is not None and s[\"test\"]:\n",
    "        ts_score = calc_score_predict(Ts, lambda u,i: predict(u, i)[\"prediction\"])[0]; ts_scores.append(ts_score)\n",
    "        stop_score = ts_score\n",
    "    else:\n",
    "        ts_score = np.nan\n",
    "        stop_score = tr_score\n",
    "    print(\"Iteration %d took %.2f seconds. training score: %.7f - test score: %.7f\" % \n",
    "          (iteration, time.process_time() - start, tr_score, ts_score))\n",
    "    if prev_score is not None and stop_score > prev_score:\n",
    "        print(\"Stopping due to increase in test score.\")\n",
    "        break\n",
    "    prev_score = stop_score\n",
    "    lrate1 = lrate1 * s[\"lrate_reduction\"]\n",
    "    lrate2 = lrate2 * s[\"lrate_reduction\"]\n",
    "\n",
    "if iteration == s[\"max_iter\"]-1:\n",
    "    print(\"Stopped because reached max iteration.\")\n",
    "plot_scores(tr_scores, ts_scores)\n",
    "plt.show()\n",
    "\n",
    "SGD_simple_pred = get_predictor(Tr, Ts, lambda u,i: predict(u, i)[\"prediction\"])\n"
   ]
  },
  {
   "cell_type": "code",
   "execution_count": 10,
   "metadata": {
    "collapsed": false,
    "deletable": true,
    "editable": true
   },
   "outputs": [
    {
     "name": "stdout",
     "output_type": "stream",
     "text": [
      "Calculating Pearson correlation coefficient\n"
     ]
    },
    {
     "name": "stderr",
     "output_type": "stream",
     "text": [
      "/home/gmeanti/venv/lib/python3.5/site-packages/scipy/stats/stats.py:3021: RuntimeWarning: invalid value encountered in double_scalars\n",
      "  r = r_num / r_den\n"
     ]
    },
    {
     "name": "stdout",
     "output_type": "stream",
     "text": [
      "Done in 94.76 seconds\n"
     ]
    }
   ],
   "source": [
    "## Calculate similarity scores\n",
    "def calc_s(i, j, l2, mat, corr_func):\n",
    "    inter = np.intersect1d(np.where(mat[:,i] != 0)[0], np.where(mat[:,j] != 0)[0], True)\n",
    "    n_ij = len(inter)\n",
    "    if n_ij == 0: return 0\n",
    "    p_ij = abs(corr_func(mat[inter,i], mat[inter, j])[0])\n",
    "    return (n_ij / (n_ij + l2)) * p_ij\n",
    "if False:\n",
    "    print(\"Calculating Spearman correlation coefficient\")\n",
    "    start = time.process_time()\n",
    "    # Upper triangular matrix of correlation coefficients\n",
    "    corr_mat_spear = np.zeros((nitems, nitems))\n",
    "    for i in range(nitems):\n",
    "        for j in range(i+1, nitems):\n",
    "            corr_mat_spear[i, j] = calc_s(i, j, 100, Tr, stats.spearmanr)\n",
    "    # Make it full symmetric matrix\n",
    "    corr_mat_spear = corr_mat_spear + corr_mat_spear.T\n",
    "    print(\"Done in %.2f seconds\" % (time.process_time() - start))\n",
    "\n",
    "print(\"Calculating Pearson correlation coefficient\")\n",
    "start = time.process_time()\n",
    "# Upper triangular matrix of correlation coefficients\n",
    "corr_mat_pears = np.zeros((nitems, nitems))\n",
    "for i in range(nitems):\n",
    "    for j in range(i+1, nitems):\n",
    "        corr_mat_pears[i, j] = calc_s(i, j, 100, Tr, stats.pearsonr)\n",
    "# Make it full symmetric matrix\n",
    "corr_mat_pears = corr_mat_pears + corr_mat_pears.T\n",
    "print(\"Done in %.2f seconds\" % (time.process_time() - start))"
   ]
  },
  {
   "cell_type": "code",
   "execution_count": 145,
   "metadata": {
    "collapsed": false,
    "deletable": true,
    "editable": true,
    "scrolled": true
   },
   "outputs": [
    {
     "name": "stdout",
     "output_type": "stream",
     "text": [
      "Iteration 0 took 310.03 seconds (10 scoring). training score: 0.9908420 - test score: nan\n",
      "Iteration 1 took 197.63 seconds (7. scoring). training score: nan - test score: nan\n",
      "Iteration 2 took 189.87 seconds (7. scoring). training score: nan - test score: nan\n",
      "Iteration 3 took 183.99 seconds (7. scoring). training score: nan - test score: nan\n",
      "Iteration 4 took 198.21 seconds (7. scoring). training score: nan - test score: nan\n",
      "Iteration 5 took 192.88 seconds (6. scoring). training score: nan - test score: nan\n",
      "Iteration 6 took 204.38 seconds (7. scoring). training score: nan - test score: nan\n",
      "Iteration 7 took 219.08 seconds (6. scoring). training score: nan - test score: nan\n",
      "Iteration 8 took 213.90 seconds (7. scoring). training score: nan - test score: nan\n",
      "Iteration 9 took 213.40 seconds (6. scoring). training score: nan - test score: nan\n",
      "Iteration 10 took 320.26 seconds (11 scoring). training score: 0.9367552 - test score: nan\n",
      "Iteration 11 took 197.46 seconds (7. scoring). training score: nan - test score: nan\n",
      "Iteration 12 took 199.62 seconds (6. scoring). training score: nan - test score: nan\n",
      "Iteration 13 took 201.97 seconds (6. scoring). training score: nan - test score: nan\n",
      "Iteration 14 took 193.64 seconds (7. scoring). training score: nan - test score: nan\n",
      "Iteration 15 took 179.88 seconds (6. scoring). training score: nan - test score: nan\n",
      "Iteration 16 took 179.97 seconds (7. scoring). training score: nan - test score: nan\n",
      "Iteration 17 took 183.54 seconds (6. scoring). training score: nan - test score: nan\n",
      "Iteration 18 took 186.52 seconds (7. scoring). training score: nan - test score: nan\n",
      "Iteration 19 took 179.60 seconds (7. scoring). training score: nan - test score: nan\n",
      "Iteration 20 took 272.74 seconds (93 scoring). training score: 0.9156714 - test score: nan\n",
      "Iteration 21 took 179.74 seconds (7. scoring). training score: nan - test score: nan\n",
      "Iteration 22 took 179.59 seconds (7. scoring). training score: nan - test score: nan\n",
      "Iteration 23 took 214.38 seconds (7. scoring). training score: nan - test score: nan\n",
      "Iteration 24 took 221.26 seconds (7. scoring). training score: nan - test score: nan\n",
      "Iteration 25 took 218.78 seconds (8. scoring). training score: nan - test score: nan\n",
      "Iteration 26 took 219.51 seconds (7. scoring). training score: nan - test score: nan\n",
      "Iteration 27 took 219.89 seconds (6. scoring). training score: nan - test score: nan\n",
      "Iteration 28 took 227.20 seconds (7. scoring). training score: nan - test score: nan\n",
      "Iteration 29 took 197.38 seconds (7. scoring). training score: nan - test score: nan\n",
      "Iteration 30 took 301.22 seconds (10 scoring). training score: 0.9079880 - test score: nan\n",
      "Stopped because reached max iteration.\n"
     ]
    },
    {
     "data": {
      "image/png": "[encoded data removed]",
      "text/plain": [
       "<matplotlib.figure.Figure at 0x7f30990ca5c0>"
      ]
     },
     "metadata": {},
     "output_type": "display_data"
    }
   ],
   "source": [
    "## Integrated\n",
    "np.random.seed(s[\"random_seed\"])\n",
    "tr_scores = []; ts_scores = []\n",
    "lrate1 = 0.007; lrate2 = 0.007; lrate3 = 0.001  # Learning rate\n",
    "regl6 = 0.005; regl7 = 0.015; regl8 = 0.015;    # Regularization\n",
    "## Set up the matrices\n",
    "bias = Pc       # This is used for the neighbourhood model (contains fixed biases)\n",
    "sim = corr_mat_spear  # Also used for neighbourhood. Pearson correlation coefficients between items\n",
    "## Prepare the shuffled indices\n",
    "tr_indices = np.where(Tr != 0)\n",
    "shuf_indices = list(range(len(tr_indices[0])))\n",
    "np.random.shuffle(shuf_indices)\n",
    "## Initialize the empty vectors\n",
    "user_vecs = np.random.normal(scale=1./s[\"num_factors\"],\\\n",
    "                             size=(nusers, s[\"num_factors\"]))\n",
    "item_vecs = np.random.normal(scale=1./s[\"num_factors\"],\n",
    "                             size=(nitems, s[\"num_factors\"]))\n",
    "user_bias = np.zeros(nusers, dtype=\"float64\")\n",
    "item_bias = np.zeros(nitems, dtype=\"float64\")\n",
    "global_bias = np.mean(Tr[tr_indices])\n",
    "y = np.zeros((nitems, s[\"num_factors\"]), dtype=\"float64\")\n",
    "w = np.zeros((nitems, nitems), dtype=\"float64\")\n",
    "c = np.zeros((nitems, nitems), dtype=\"float64\")\n",
    "\n",
    "def predict(u, i):\n",
    "    d = {}\n",
    "    d[\"which_num_u\"] = np.where(Tr[u,:] != 0)[0]\n",
    "    num_u = len(d[\"which_num_u\"])\n",
    "    inv_kmax = max(0, num_u - s[\"max_neigh\"])\n",
    "    d[\"sqrt_num_u\"] = 1 / np.sqrt(num_u)\n",
    "    d[\"sum_y\"] = user_vecs[u,:] + d[\"sqrt_num_u\"]*np.sum(y[d[\"which_num_u\"]], axis=0)\n",
    "\n",
    "    ## Set of k items most similar to i intersect with the items rated by u\n",
    "    ## Partial sort of top s[\"max_neigh\"] items\n",
    "    ii = np.argpartition(sim[i, d[\"which_num_u\"]], inv_kmax)\n",
    "    items = d[\"which_num_u\"][ii[inv_kmax:]]\n",
    "\n",
    "    d[\"topk\"] = np.intersect1d(d[\"which_num_u\"], items)\n",
    "    d[\"n_topk\"] = 1/np.sqrt(len(d[\"topk\"]))\n",
    "    \n",
    "    neighbour_sum = np.sum((Tr[u,d[\"topk\"]] - bias[u,d[\"topk\"]])\n",
    "                            * w[i,d[\"topk\"]])\n",
    "    implicit_sum = np.sum(c[i,d[\"topk\"]])\n",
    "    \n",
    "    d[\"prediction\"] = global_bias + user_bias[u] + item_bias[i] + \\\n",
    "                 item_vecs[i,:].T.dot(d[\"sum_y\"]) + \\\n",
    "                 d[\"n_topk\"] * neighbour_sum + \\\n",
    "                 d[\"n_topk\"] * implicit_sum\n",
    "            \n",
    "    return d\n",
    "\n",
    "prev_score = None\n",
    "for iteration in range(s[\"max_iter\"]):\n",
    "    start = time.process_time()\n",
    "    for q, iindex in enumerate(shuf_indices):\n",
    "        u = tr_indices[0][iindex]\n",
    "        i = tr_indices[1][iindex]\n",
    "\n",
    "        d = predict(u, i)\n",
    "        err = Tr[u, i] - d[\"prediction\"]\n",
    "\n",
    "        # Update values based on negative gradient\n",
    "        prec1 = err * item_vecs[i,:]\n",
    "        prec2 = err * d[\"n_topk\"]\n",
    "        user_bias[u] += lrate1 * (err - regl6 * user_bias[u])\n",
    "        item_bias[i] += lrate1 * (err - regl6 * item_bias[i])\n",
    "        user_vecs[u,:] += lrate2 * (prec1 - regl7 * user_vecs[u,:])\n",
    "        item_vecs[i,:] += lrate2 * (err * d[\"sum_y\"] - regl7 * item_vecs[i,:])\n",
    "\n",
    "        y[d[\"which_num_u\"]] += lrate2 * (prec1 * d[\"sqrt_num_u\"] -\n",
    "                                         regl7 * y[d[\"which_num_u\"]])\n",
    "\n",
    "        js = d[\"topk\"]\n",
    "        w[i,js] += lrate3 * (prec2 * (Tr[u,js] - bias[u,js]) - regl8 * w[i,js])\n",
    "        c[i,js] += lrate3 * (prec2 - regl8 * c[i,js])\n",
    "    it_time = time.process_time() - start\n",
    "    tr_score = np.nan\n",
    "    if iteration % s[\"calc_train_score\"] == 0:\n",
    "        tr_score = calc_score_predict(Tr, lambda u,i: predict(u, i)[\"prediction\"])[0]\n",
    "    tr_scores.append(tr_score)\n",
    "    if Ts is not None and s[\"test\"]:\n",
    "        ts_score = calc_score_predict(Ts, lambda u,i: predict(u, i)[\"prediction\"])[0]; ts_scores.append(ts_score)\n",
    "        stop_score = ts_score\n",
    "    else:\n",
    "        ts_score = np.nan\n",
    "        stop_score = tr_score\n",
    "    score_time = time.process_time() - start - it_time\n",
    "    print(\"Iteration %d took %.2f seconds (%.2fs scoring). training score: %.7f - test score: %.7f\" % \n",
    "          (iteration, time.process_time() - start, score_time, tr_score, ts_score))\n",
    "    if prev_score is not None and stop_score > prev_score:\n",
    "        print(\"Stopping due to increase in test score.\")\n",
    "        break\n",
    "    prev_score = stop_score\n",
    "    lrate1 *= s[\"lrate_reduction\"]\n",
    "    lrate2 *= s[\"lrate_reduction\"]\n",
    "    lrate3 *= s[\"lrate_reduction\"]\n",
    "\n",
    "if iteration == s[\"max_iter\"]-1:\n",
    "    print(\"Stopped because reached max iteration.\")\n",
    "plot_scores(tr_scores, ts_scores)\n",
    "plt.show()\n",
    "\n",
    "SGD_integrated_pred = get_predictor(Tr, Ts, lambda u,i: predict(u, i)[\"prediction\"])\n"
   ]
  },
  {
   "cell_type": "code",
   "execution_count": 26,
   "metadata": {
    "collapsed": false,
    "deletable": true,
    "editable": true
   },
   "outputs": [
    {
     "data": {
      "text/plain": [
       "1000"
      ]
     },
     "execution_count": 26,
     "metadata": {},
     "output_type": "execute_result"
    }
   ],
   "source": [
    "a = [1, 2, 3, 4, 5]\n",
    "a[-10:]\n",
    "    #expl_items = np.intersect1d(d[\"which_num_u\"], d[\"which_num_u\"][sim_sorted[-s[\"max_neigh\"]:]])\n",
    "\n",
    "np.argpartition(sim[i, :], s[\"max_neigh\"]).size"
   ]
  },
  {
   "cell_type": "code",
   "execution_count": 22,
   "metadata": {
    "collapsed": false,
    "deletable": true,
    "editable": true
   },
   "outputs": [
    {
     "name": "stdout",
     "output_type": "stream",
     "text": [
      "Iteration 0 took 123.83 seconds (51.63s scoring). training score: 0.9258657 - test score: 1.0062781\n",
      "Iteration 1 took 81.31 seconds (10.40s scoring). training score: nan - test score: 0.9977350\n",
      "Iteration 2 took 119.97 seconds (48.59s scoring). training score: 0.8109887 - test score: 0.9942352\n",
      "Iteration 3 took 82.48 seconds (10.03s scoring). training score: nan - test score: 0.9923046\n",
      "Iteration 4 took 120.92 seconds (49.44s scoring). training score: 0.7443819 - test score: 0.9910584\n",
      "Iteration 5 took 80.19 seconds (9.38s scoring). training score: nan - test score: 0.9901789\n",
      "Iteration 6 took 120.45 seconds (49.28s scoring). training score: 0.7006045 - test score: 0.9895238\n",
      "Iteration 7 took 82.68 seconds (10.84s scoring). training score: nan - test score: 0.9890182\n",
      "Iteration 8 took 120.18 seconds (48.47s scoring). training score: 0.6701202 - test score: 0.9886182\n",
      "Iteration 9 took 79.68 seconds (9.81s scoring). training score: nan - test score: 0.9882960\n",
      "Iteration 10 took 117.10 seconds (46.15s scoring). training score: 0.6480885 - test score: 0.9880328\n",
      "Iteration 11 took 84.18 seconds (11.09s scoring). training score: nan - test score: 0.9878153\n",
      "Iteration 12 took 131.58 seconds (52.71s scoring). training score: 0.6317426 - test score: 0.9876341\n",
      "Iteration 13 took 86.28 seconds (10.68s scoring). training score: nan - test score: 0.9874818\n"
     ]
    },
    {
     "ename": "KeyboardInterrupt",
     "evalue": "",
     "output_type": "error",
     "traceback": [
      "\u001b[0;31m---------------------------------------------------------------------------\u001b[0m",
      "\u001b[0;31mKeyboardInterrupt\u001b[0m                         Traceback (most recent call last)",
      "\u001b[0;32m<ipython-input-22-a331f52ab8a3>\u001b[0m in \u001b[0;36m<module>\u001b[0;34m()\u001b[0m\n\u001b[1;32m     77\u001b[0m     \u001b[0mtr_score\u001b[0m \u001b[0;34m=\u001b[0m \u001b[0mnp\u001b[0m\u001b[0;34m.\u001b[0m\u001b[0mnan\u001b[0m\u001b[0;34m\u001b[0m\u001b[0m\n\u001b[1;32m     78\u001b[0m     \u001b[0;32mif\u001b[0m \u001b[0miteration\u001b[0m \u001b[0;34m%\u001b[0m \u001b[0ms\u001b[0m\u001b[0;34m[\u001b[0m\u001b[0;34m\"calc_train_score\"\u001b[0m\u001b[0;34m]\u001b[0m \u001b[0;34m==\u001b[0m \u001b[0;36m0\u001b[0m\u001b[0;34m:\u001b[0m\u001b[0;34m\u001b[0m\u001b[0m\n\u001b[0;32m---> 79\u001b[0;31m         \u001b[0mtr_score\u001b[0m \u001b[0;34m=\u001b[0m \u001b[0mcalc_score_predict\u001b[0m\u001b[0;34m(\u001b[0m\u001b[0mTr\u001b[0m\u001b[0;34m,\u001b[0m \u001b[0;32mlambda\u001b[0m \u001b[0mu\u001b[0m\u001b[0;34m,\u001b[0m\u001b[0mi\u001b[0m\u001b[0;34m:\u001b[0m \u001b[0mpredict\u001b[0m\u001b[0;34m(\u001b[0m\u001b[0mu\u001b[0m\u001b[0;34m,\u001b[0m \u001b[0mi\u001b[0m\u001b[0;34m)\u001b[0m\u001b[0;34m[\u001b[0m\u001b[0;34m\"prediction\"\u001b[0m\u001b[0;34m]\u001b[0m\u001b[0;34m)\u001b[0m\u001b[0;34m[\u001b[0m\u001b[0;36m0\u001b[0m\u001b[0;34m]\u001b[0m\u001b[0;34m\u001b[0m\u001b[0m\n\u001b[0m\u001b[1;32m     80\u001b[0m     \u001b[0mtr_scores\u001b[0m\u001b[0;34m.\u001b[0m\u001b[0mappend\u001b[0m\u001b[0;34m(\u001b[0m\u001b[0mtr_score\u001b[0m\u001b[0;34m)\u001b[0m\u001b[0;34m\u001b[0m\u001b[0m\n\u001b[1;32m     81\u001b[0m     \u001b[0;32mif\u001b[0m \u001b[0mTs\u001b[0m \u001b[0;32mis\u001b[0m \u001b[0;32mnot\u001b[0m \u001b[0;32mNone\u001b[0m \u001b[0;32mand\u001b[0m \u001b[0ms\u001b[0m\u001b[0;34m[\u001b[0m\u001b[0;34m\"test\"\u001b[0m\u001b[0;34m]\u001b[0m\u001b[0;34m:\u001b[0m\u001b[0;34m\u001b[0m\u001b[0m\n",
      "\u001b[0;32m<ipython-input-3-970502ef9cdc>\u001b[0m in \u001b[0;36mcalc_score_predict\u001b[0;34m(Test, func)\u001b[0m\n\u001b[1;32m     74\u001b[0m         \u001b[0mu\u001b[0m \u001b[0;34m=\u001b[0m \u001b[0mindices\u001b[0m\u001b[0;34m[\u001b[0m\u001b[0;36m0\u001b[0m\u001b[0;34m]\u001b[0m\u001b[0;34m[\u001b[0m\u001b[0mindex\u001b[0m\u001b[0;34m]\u001b[0m\u001b[0;34m\u001b[0m\u001b[0m\n\u001b[1;32m     75\u001b[0m         \u001b[0mi\u001b[0m \u001b[0;34m=\u001b[0m \u001b[0mindices\u001b[0m\u001b[0;34m[\u001b[0m\u001b[0;36m1\u001b[0m\u001b[0;34m]\u001b[0m\u001b[0;34m[\u001b[0m\u001b[0mindex\u001b[0m\u001b[0;34m]\u001b[0m\u001b[0;34m\u001b[0m\u001b[0m\n\u001b[0;32m---> 76\u001b[0;31m         \u001b[0mApred\u001b[0m\u001b[0;34m[\u001b[0m\u001b[0mu\u001b[0m\u001b[0;34m,\u001b[0m \u001b[0mi\u001b[0m\u001b[0;34m]\u001b[0m \u001b[0;34m=\u001b[0m \u001b[0mfunc\u001b[0m\u001b[0;34m(\u001b[0m\u001b[0mu\u001b[0m\u001b[0;34m,\u001b[0m \u001b[0mi\u001b[0m\u001b[0;34m)\u001b[0m\u001b[0;34m\u001b[0m\u001b[0m\n\u001b[0m\u001b[1;32m     77\u001b[0m     \u001b[0mscore\u001b[0m \u001b[0;34m=\u001b[0m \u001b[0mcalc_score\u001b[0m\u001b[0;34m(\u001b[0m\u001b[0mApred\u001b[0m\u001b[0;34m,\u001b[0m \u001b[0mTest\u001b[0m\u001b[0;34m)\u001b[0m\u001b[0;34m\u001b[0m\u001b[0m\n\u001b[1;32m     78\u001b[0m     \u001b[0;32mreturn\u001b[0m \u001b[0;34m(\u001b[0m\u001b[0mscore\u001b[0m\u001b[0;34m,\u001b[0m \u001b[0mApred\u001b[0m\u001b[0;34m)\u001b[0m\u001b[0;34m\u001b[0m\u001b[0m\n",
      "\u001b[0;32m<ipython-input-22-a331f52ab8a3>\u001b[0m in \u001b[0;36m<lambda>\u001b[0;34m(u, i)\u001b[0m\n\u001b[1;32m     77\u001b[0m     \u001b[0mtr_score\u001b[0m \u001b[0;34m=\u001b[0m \u001b[0mnp\u001b[0m\u001b[0;34m.\u001b[0m\u001b[0mnan\u001b[0m\u001b[0;34m\u001b[0m\u001b[0m\n\u001b[1;32m     78\u001b[0m     \u001b[0;32mif\u001b[0m \u001b[0miteration\u001b[0m \u001b[0;34m%\u001b[0m \u001b[0ms\u001b[0m\u001b[0;34m[\u001b[0m\u001b[0;34m\"calc_train_score\"\u001b[0m\u001b[0;34m]\u001b[0m \u001b[0;34m==\u001b[0m \u001b[0;36m0\u001b[0m\u001b[0;34m:\u001b[0m\u001b[0;34m\u001b[0m\u001b[0m\n\u001b[0;32m---> 79\u001b[0;31m         \u001b[0mtr_score\u001b[0m \u001b[0;34m=\u001b[0m \u001b[0mcalc_score_predict\u001b[0m\u001b[0;34m(\u001b[0m\u001b[0mTr\u001b[0m\u001b[0;34m,\u001b[0m \u001b[0;32mlambda\u001b[0m \u001b[0mu\u001b[0m\u001b[0;34m,\u001b[0m\u001b[0mi\u001b[0m\u001b[0;34m:\u001b[0m \u001b[0mpredict\u001b[0m\u001b[0;34m(\u001b[0m\u001b[0mu\u001b[0m\u001b[0;34m,\u001b[0m \u001b[0mi\u001b[0m\u001b[0;34m)\u001b[0m\u001b[0;34m[\u001b[0m\u001b[0;34m\"prediction\"\u001b[0m\u001b[0;34m]\u001b[0m\u001b[0;34m)\u001b[0m\u001b[0;34m[\u001b[0m\u001b[0;36m0\u001b[0m\u001b[0;34m]\u001b[0m\u001b[0;34m\u001b[0m\u001b[0m\n\u001b[0m\u001b[1;32m     80\u001b[0m     \u001b[0mtr_scores\u001b[0m\u001b[0;34m.\u001b[0m\u001b[0mappend\u001b[0m\u001b[0;34m(\u001b[0m\u001b[0mtr_score\u001b[0m\u001b[0;34m)\u001b[0m\u001b[0;34m\u001b[0m\u001b[0m\n\u001b[1;32m     81\u001b[0m     \u001b[0;32mif\u001b[0m \u001b[0mTs\u001b[0m \u001b[0;32mis\u001b[0m \u001b[0;32mnot\u001b[0m \u001b[0;32mNone\u001b[0m \u001b[0;32mand\u001b[0m \u001b[0ms\u001b[0m\u001b[0;34m[\u001b[0m\u001b[0;34m\"test\"\u001b[0m\u001b[0;34m]\u001b[0m\u001b[0;34m:\u001b[0m\u001b[0;34m\u001b[0m\u001b[0m\n",
      "\u001b[0;32m<ipython-input-22-a331f52ab8a3>\u001b[0m in \u001b[0;36mpredict\u001b[0;34m(u, i)\u001b[0m\n\u001b[1;32m     48\u001b[0m     \u001b[0;31m#d[\"n_topk\"] = 1/np.sqrt(len(d[\"topk\"]))\u001b[0m\u001b[0;34m\u001b[0m\u001b[0;34m\u001b[0m\u001b[0m\n\u001b[1;32m     49\u001b[0m \u001b[0;34m\u001b[0m\u001b[0m\n\u001b[0;32m---> 50\u001b[0;31m     neighbour_sum = np.sum((Tr[u,d[\"expl_items\"]] - bias[u,d[\"expl_items\"]])\n\u001b[0m\u001b[1;32m     51\u001b[0m                             * w[i,d[\"expl_items\"]])\n\u001b[1;32m     52\u001b[0m     \u001b[0mimplicit_sum\u001b[0m \u001b[0;34m=\u001b[0m \u001b[0mnp\u001b[0m\u001b[0;34m.\u001b[0m\u001b[0msum\u001b[0m\u001b[0;34m(\u001b[0m\u001b[0mc\u001b[0m\u001b[0;34m[\u001b[0m\u001b[0mi\u001b[0m\u001b[0;34m,\u001b[0m\u001b[0md\u001b[0m\u001b[0;34m[\u001b[0m\u001b[0;34m\"impl_items\"\u001b[0m\u001b[0;34m]\u001b[0m\u001b[0;34m]\u001b[0m\u001b[0;34m)\u001b[0m\u001b[0;34m\u001b[0m\u001b[0m\n",
      "\u001b[0;31mKeyboardInterrupt\u001b[0m: "
     ]
    }
   ],
   "source": [
    "## Only Neighbourhood Model (solve with least squares)\n",
    "# http://cs.rochester.edu/twiki/pub/Main/HarpSeminar/Factorization_Meets_the_Neighborhood-_a_Multifaceted_Collaborative_Filtering_Model.pdf\n",
    "# pages 4,5\n",
    "s[\"max_neigh\"] = 250\n",
    "np.random.seed(s[\"random_seed\"])\n",
    "tr_scores = []; ts_scores = []\n",
    "lrate = 0.005   # Learning rate\n",
    "regl4 = 0.003   # Regularization\n",
    "## Set up the matrices\n",
    "bias = Pc       # This is used for the neighbourhood model (contains fixed biases)\n",
    "sim  = corr_mat_pears # Also used for neighbourhood. Pearson correlation coefficients between items\n",
    "## Prepare the shuffled indices\n",
    "tr_indices = np.where(Tr != 0)\n",
    "shuf_indices = list(range(len(tr_indices[0])))\n",
    "np.random.shuffle(shuf_indices)\n",
    "## Initialize the empty vectors\n",
    "user_bias = np.zeros(nusers, dtype=\"float64\")\n",
    "item_bias = np.zeros(nitems, dtype=\"float64\")\n",
    "global_bias = np.mean(Tr[tr_indices])\n",
    "w = np.zeros((nitems, nitems), dtype=\"float64\")\n",
    "c = np.zeros((nitems, nitems), dtype=\"float64\")\n",
    "\n",
    "def predict(u, i):\n",
    "    d = {}\n",
    "    d[\"which_num_u\"] = np.where(Tr[u,:] != 0)[0]\n",
    "    d[\"implicit_u\"] = np.where(imp_mask[u,:] != 0)[0]\n",
    "    inv_kmax_expl = max(0, len(d[\"which_num_u\"]) - s[\"max_neigh\"])\n",
    "    inv_kmax_impl = max(0, len(d[\"implicit_u\"]) - s[\"max_neigh\"])\n",
    "\n",
    "    ## Set of k items most similar to i:\n",
    "    ksim_expl = np.argpartition(sim[i, d[\"which_num_u\"]], inv_kmax_expl)\n",
    "    ksim_impl = np.argpartition(sim[i, d[\"implicit_u\"]], inv_kmax_impl)\n",
    "    \n",
    "    #d[\"expl_items\"] = np.intersect1d(d[\"which_num_u\"], d[\"which_num_u\"][ksim_expl[inv_kmax_expl:]])\n",
    "    d[\"expl_items\"] = d[\"which_num_u\"][ksim_expl[inv_kmax_expl:]]\n",
    "    d[\"n_expl\"] = 1 / np.sqrt(len(d[\"expl_items\"]))\n",
    "    \n",
    "    #d[\"impl_items\"] = np.intersect1d(d[\"implicit_u\"], d[\"implicit_u\"][ksim_impl[inv_kmax_impl:]])\n",
    "    d[\"impl_items\"] = d[\"implicit_u\"][ksim_impl[inv_kmax_impl:]]\n",
    "    d[\"n_impl\"] = 1 / np.sqrt(len(d[\"impl_items\"]))\n",
    "    \n",
    "    ## Set of k items most similar to i intersect with the items rated by u\n",
    "    ## Partial sort of top s[\"max_neigh\"] items\n",
    "    #ii = np.argpartition(sim[i, d[\"which_num_u\"]], inv_kmax)\n",
    "    #items = d[\"which_num_u\"][ii[inv_kmax:]]\n",
    "\n",
    "    #d[\"topk\"] = np.intersect1d(d[\"which_num_u\"], items)\n",
    "    #d[\"n_topk\"] = 1/np.sqrt(len(d[\"topk\"]))\n",
    "\n",
    "    neighbour_sum = np.sum((Tr[u,d[\"expl_items\"]] - bias[u,d[\"expl_items\"]])\n",
    "                            * w[i,d[\"expl_items\"]])\n",
    "    implicit_sum = np.sum(c[i,d[\"impl_items\"]])\n",
    "\n",
    "    d[\"prediction\"] = global_bias + user_bias[u] + item_bias[i] + \\\n",
    "                 d[\"n_expl\"] * neighbour_sum + \\\n",
    "                 d[\"n_impl\"] * implicit_sum\n",
    "    return d\n",
    "\n",
    "prev_score = None\n",
    "for iteration in range(s[\"max_iter\"]):\n",
    "    start = time.process_time()\n",
    "    for q, iindex in enumerate(shuf_indices):\n",
    "        u = tr_indices[0][iindex]\n",
    "        i = tr_indices[1][iindex]\n",
    "\n",
    "        d = predict(u, i)\n",
    "        err = Tr[u, i] - d[\"prediction\"]\n",
    "\n",
    "        # Update values based on negative gradient\n",
    "        user_bias[u] += lrate * (err - regl4 * user_bias[u])\n",
    "        item_bias[i] += lrate * (err - regl4 * item_bias[i])\n",
    "        ei = d[\"expl_items\"]\n",
    "        w[i,ei] += lrate * (err * d[\"n_expl\"] * (Tr[u, ei] - bias[u, ei]) -\n",
    "                            regl4 * w[i,ei])\n",
    "        c[i,d[\"impl_items\"]] += lrate * (err * d[\"n_impl\"] - regl4 * c[i,d[\"impl_items\"]])\n",
    "    \n",
    "    # Timing and scoring bs\n",
    "    it_time = time.process_time() - start\n",
    "    tr_score = np.nan\n",
    "    if iteration % s[\"calc_train_score\"] == 0:\n",
    "        tr_score = calc_score_predict(Tr, lambda u,i: predict(u, i)[\"prediction\"])[0]\n",
    "    tr_scores.append(tr_score)\n",
    "    if Ts is not None and s[\"test\"]:\n",
    "        ts_score = calc_score_predict(Ts, lambda u,i: predict(u, i)[\"prediction\"])[0]; ts_scores.append(ts_score)\n",
    "        stop_score = ts_score\n",
    "    else:\n",
    "        ts_score = np.nan\n",
    "        stop_score = tr_score\n",
    "    score_time = time.process_time() - start - it_time\n",
    "    print(\"Iteration %d took %.2f seconds (%.2fs scoring). training score: %.7f - test score: %.7f\" % \n",
    "          (iteration, time.process_time() - start, score_time, tr_score, ts_score))\n",
    "    if prev_score is not None and stop_score > prev_score:\n",
    "        print(\"Stopping due to increase in test score.\")\n",
    "        #break\n",
    "    prev_score = stop_score\n",
    "    lrate *= s[\"lrate_reduction\"]\n",
    "\n",
    "if iteration == s[\"max_iter\"]-1:\n",
    "    print(\"Stopped because reached max iteration.\")\n",
    "plot_scores(tr_scores, ts_scores)\n",
    "plt.show()\n",
    "    \n",
    "SGD_neighbour_pred = get_predictor(Tr, Ts, lambda u,i: predict(u, i)[\"prediction\"])\n"
   ]
  },
  {
   "cell_type": "code",
   "execution_count": null,
   "metadata": {
    "collapsed": true,
    "deletable": true,
    "editable": true
   },
   "outputs": [],
   "source": [
    "Iteration 0 took 182.55 seconds (74.18s scoring). training score: 0.9724530 - test score: nan\n",
    "Iteration 1 took 103.59 seconds (0.00s scoring). training score: nan - test score: nan\n",
    "Iteration 2 took 104.37 seconds (0.00s scoring). training score: nan - test score: nan\n",
    "Iteration 3 took 110.42 seconds (0.00s scoring). training score: nan - test score: nan\n",
    "Iteration 4 took 104.93 seconds (0.00s scoring). training score: nan - test score: nan\n",
    "Iteration 5 took 106.33 seconds (0.00s scoring). training score: nan - test score: nan\n",
    "Iteration 6 took 119.29 seconds (0.00s scoring). training score: nan - test score: nan\n",
    "Iteration 7 took 104.61 seconds (0.00s scoring). training score: nan - test score: nan\n",
    "Iteration 8 took 104.37 seconds (0.00s scoring). training score: nan - test score: nan\n",
    "Iteration 9 took 103.06 seconds (0.00s scoring). training score: nan - test score: nan\n",
    "Iteration 10 took 174.37 seconds (71.38s scoring). training score: 0.8616350 - test score: nan\n",
    "Iteration 11 took 102.55 seconds (0.00s scoring). training score: nan - test score: nan\n",
    "Iteration 12 took 102.11 seconds (0.00s scoring). training score: nan - test score: nan\n",
    "Iteration 13 took 102.25 seconds (0.00s scoring). training score: nan - test score: nan\n",
    "Iteration 14 took 102.18 seconds (0.00s scoring). training score: nan - test score: nan\n",
    "Iteration 15 took 102.17 seconds (0.00s scoring). training score: nan - test score: nan\n",
    "Iteration 16 took 102.44 seconds (0.00s scoring). training score: nan - test score: nan\n",
    "Iteration 17 took 102.56 seconds (0.00s scoring). training score: nan - test score: nan\n",
    "Iteration 18 took 102.92 seconds (0.00s scoring). training score: nan - test score: nan\n",
    "Iteration 19 took 104.98 seconds (0.00s scoring). training score: nan - test score: nan\n",
    "Iteration 20 took 172.77 seconds (67.56s scoring). training score: 0.8380279 - test score: nan\n",
    "Iteration 21 took 103.31 seconds (0.00s scoring). training score: nan - test score: nan\n",
    "Iteration 22 took 104.43 seconds (0.00s scoring). training score: nan - test score: nan\n",
    "Iteration 23 took 103.94 seconds (0.00s scoring). training score: nan - test score: nan\n",
    "Iteration 24 took 103.51 seconds (0.00s scoring). training score: nan - test score: nan\n",
    "Iteration 25 took 103.26 seconds (0.00s scoring). training score: nan - test score: nan\n",
    "Iteration 26 took 104.69 seconds (0.00s scoring). training score: nan - test score: nan\n",
    "Iteration 27 took 105.27 seconds (0.00s scoring). training score: nan - test score: nan\n",
    "Iteration 28 took 106.80 seconds (0.00s scoring). training score: nan - test score: nan\n",
    "Iteration 29 took 106.23 seconds (0.00s scoring). training score: nan - test score: nan\n",
    "Iteration 30 took 178.12 seconds (70.18s scoring). training score: 0.8306742 - test score: nan\n",
    "Stopped because reached max iteration.\n"
   ]
  },
  {
   "cell_type": "markdown",
   "metadata": {
    "deletable": true,
    "editable": true
   },
   "source": [
    "## Neighbourhood model\n",
    "\n",
    "Similarity between two items i, j: $s_{i,j} = \\dfrac{n_{ij}}{n_{ij} + \\lambda_2}\\rho_{ij}$\n",
    "with $\\lambda_2 = 100$, $\\rho_{ij}$ is the pearson correlation coefficient which only takes into account the users who have rated both items. $n_{ij}$ is the number of users who have rated both items\n",
    "\n"
   ]
  },
  {
   "cell_type": "code",
   "execution_count": 147,
   "metadata": {
    "collapsed": false,
    "deletable": true,
    "editable": true
   },
   "outputs": [
    {
     "name": "stdout",
     "output_type": "stream",
     "text": [
      "Computing Spearman predictor\n",
      "Took 706.75 seconds\n",
      "Computing Pearson predictor\n",
      "Took 623.76 seconds\n"
     ]
    }
   ],
   "source": [
    "k = 100\n",
    "# Prediction function\n",
    "def predict(u, i, mat, base, sim):\n",
    "    # fetch the k items rated by user u, which are most similar to i\n",
    "    items = np.where(mat[u,:] != 0)[0]\n",
    "    items = sorted(items, key=lambda j: sim[i, j], reverse=True)[:k]\n",
    "    try:\n",
    "        indexi = items.index(i)\n",
    "        del items[indexi]\n",
    "    except ValueError: pass\n",
    "    numer = sum([sim[i, j]*(mat[u,j] - base[u,j]) for j in items])\n",
    "    denom = sum([sim[i, j] for j in items])\n",
    "    return base[u, i] + numer / denom\n",
    "\n",
    "print(\"Computing Spearman predictor\")\n",
    "start = time.process_time()\n",
    "predict_part = functools.partial(predict, mat=Tr, base=Pc, sim=corr_mat_spear)\n",
    "neigh_spearman_pred = get_predictor(Tr, Ts, predict_part)\n",
    "print(\"Took %.2f seconds\" % (time.process_time() - start))\n",
    "\n",
    "print(\"Computing Pearson predictor\")\n",
    "start = time.process_time()\n",
    "predict_part = functools.partial(predict, mat=Tr, base=Pc, sim=corr_mat_pears)\n",
    "neigh_pearson_pred = get_predictor(Tr, Ts, predict_part)\n",
    "print(\"Took %.2f seconds\" % (time.process_time() - start))"
   ]
  },
  {
   "cell_type": "code",
   "execution_count": 267,
   "metadata": {
    "collapsed": false,
    "deletable": true,
    "editable": true
   },
   "outputs": [
    {
     "name": "stdout",
     "output_type": "stream",
     "text": [
      "10% done\n",
      "20% done\n",
      "30% done\n",
      "40% done\n",
      "50% done\n",
      "60% done\n",
      "70% done\n",
      "80% done\n",
      "90% done\n",
      "Score: 0.991344\n"
     ]
    }
   ],
   "source": [
    "pindices = np.where(Ts != 0)\n",
    "P = np.zeros_like(Tr, dtype=\"float64\")\n",
    "lastP = 0\n",
    "for i in range(len(pindices[0])):\n",
    "    p = int(i / len(pindices[0]) * 100)\n",
    "    if p - lastP > 9:\n",
    "        print(\"%d%% done\" % p)\n",
    "        lastP = p\n",
    "    \n",
    "    u = pindices[0][i]\n",
    "    i = pindices[1][i]\n",
    "    P[u, i] = predict_part(u, i)\n",
    "    \n",
    "print(\"Score: %f\" % calc_score(P, Ts, Mts))"
   ]
  },
  {
   "cell_type": "code",
   "execution_count": 2,
   "metadata": {
    "collapsed": false,
    "deletable": true,
    "editable": true
   },
   "outputs": [
    {
     "name": "stderr",
     "output_type": "stream",
     "text": [
      "/home/gmeanti/venv/lib/python3.5/site-packages/sklearn/cross_validation.py:44: DeprecationWarning: This module was deprecated in version 0.18 in favor of the model_selection module into which all the refactored classes and functions are moved. Also note that the interface of the new CV iterators are different from that of this module. This module will be removed in 0.20.\n",
      "  \"This module will be removed in 0.20.\", DeprecationWarning)\n"
     ]
    }
   ],
   "source": [
    "import xgboost as xgb"
   ]
  },
  {
   "cell_type": "code",
   "execution_count": 4,
   "metadata": {
    "collapsed": false,
    "deletable": true,
    "editable": true
   },
   "outputs": [],
   "source": [
    "load_from_disk = True\n",
    "if load_from_disk:\n",
    "    d_train = xgb.DMatrix(\"../saved_data/train.buffer\")\n",
    "    d_valid = xgb.DMatrix(\"../saved_data/valid.buffer\")\n",
    "else:\n",
    "    # Create the feature vectors\n",
    "    predictors = [neigh_spearman_pred, neigh_pearson_pred, bias_predictor, \n",
    "                  SVD_predictor, SGD_simple_pred, SGD_neighbour_pred, \n",
    "                  SGD_integrated_pred, SGD_base_pred]\n",
    "    x_train = np.vstack((predictors[0][0], predictors[1][0], predictors[2][0], \n",
    "                         predictors[3][0], predictors[4][0], predictors[5][0],\n",
    "                         predictors[6][0], predictors[7][0])).T\n",
    "    y_train = Tr[np.where(Tr != 0)]\n",
    "    x_test = np.vstack((predictors[0][1], predictors[1][1], predictors[2][1], \n",
    "                        predictors[3][1], predictors[4][1], predictors[5][1],\n",
    "                        predictors[6][1], predictors[7][1])).T\n",
    "    y_test = None\n",
    "    if s[\"test\"]:\n",
    "        y_test = Ts[np.where(Ts != 0)]\n",
    "    d_train = xgb.DMatrix(x_train, label=y_train)\n",
    "    d_valid = xgb.DMatrix(x_test, label=y_test)\n",
    "    # Save data\n",
    "    d_train.save_binary(\"saved_data/train.buffer\")\n",
    "    d_valid.save_binary(\"saved_data/valid.buffer\")"
   ]
  },
  {
   "cell_type": "code",
   "execution_count": 10,
   "metadata": {
    "collapsed": false,
    "deletable": true,
    "editable": true
   },
   "outputs": [
    {
     "name": "stdout",
     "output_type": "stream",
     "text": [
      "[0]\ttrain-rmse:3.20468\n",
      "Will train until train-rmse hasn't improved in 20 rounds.\n",
      "[10]\ttrain-rmse:1.33043\n",
      "[20]\ttrain-rmse:0.834601\n",
      "[30]\ttrain-rmse:0.740582\n",
      "[40]\ttrain-rmse:0.720245\n",
      "[50]\ttrain-rmse:0.713047\n",
      "[60]\ttrain-rmse:0.708593\n",
      "[70]\ttrain-rmse:0.70511\n",
      "[80]\ttrain-rmse:0.702229\n",
      "[90]\ttrain-rmse:0.70066\n",
      "[100]\ttrain-rmse:0.698776\n",
      "[110]\ttrain-rmse:0.697871\n",
      "[120]\ttrain-rmse:0.696755\n",
      "[130]\ttrain-rmse:0.69562\n",
      "[140]\ttrain-rmse:0.69466\n",
      "[150]\ttrain-rmse:0.693947\n",
      "[160]\ttrain-rmse:0.693221\n",
      "[170]\ttrain-rmse:0.692262\n",
      "[180]\ttrain-rmse:0.69172\n",
      "[190]\ttrain-rmse:0.69102\n",
      "[200]\ttrain-rmse:0.690518\n",
      "[210]\ttrain-rmse:0.690025\n",
      "[220]\ttrain-rmse:0.689462\n",
      "[230]\ttrain-rmse:0.689041\n",
      "[240]\ttrain-rmse:0.688636\n"
     ]
    }
   ],
   "source": [
    "import xgboost as xgb\n",
    "\n",
    "params = {}\n",
    "params['objective'] = \"reg:linear\"\n",
    "#params['base_score'] = global_mean\n",
    "params['eval_metric'] = \"rmse\"\n",
    "params['seed'] = 12390\n",
    "params['eta'] = 0.1\n",
    "params['max_depth'] = 3\n",
    "params['alpha'] = 10\n",
    "params['lambda'] = 10\n",
    "params['subsample'] = 0.9\n",
    "num_round = 250\n",
    "early_stop = 20\n",
    "\n",
    "watchlist = [(d_train, 'train')]\n",
    "if False:\n",
    "    watchlist.append((d_valid, 'valid'))\n",
    "# Perform training.\n",
    "bst = xgb.train(params, d_train, num_round, watchlist, early_stopping_rounds=early_stop, verbose_eval=10)"
   ]
  },
  {
   "cell_type": "code",
   "execution_count": 181,
   "metadata": {
    "collapsed": false,
    "deletable": true,
    "editable": true
   },
   "outputs": [
    {
     "data": {
      "image/png": "[encoded data removed]",
      "text/plain": [
       "<matplotlib.figure.Figure at 0x7f30990ab940>"
      ]
     },
     "metadata": {},
     "output_type": "display_data"
    }
   ],
   "source": [
    "xgb.plot_importance(bst, importance_type=\"gain\")#, max_num_features=None)\n",
    "plt.show()"
   ]
  },
  {
   "cell_type": "code",
   "execution_count": 177,
   "metadata": {
    "collapsed": false,
    "deletable": true,
    "editable": true
   },
   "outputs": [
    {
     "data": {
      "image/png": "[encoded data removed]",
      "text/plain": [
       "<matplotlib.figure.Figure at 0x7f305df19668>"
      ]
     },
     "metadata": {},
     "output_type": "display_data"
    },
    {
     "data": {
      "image/svg+xml": [
       "<?xml version=\"1.0\" encoding=\"UTF-8\" standalone=\"no\"?>\n",
       "<!DOCTYPE svg PUBLIC \"-//W3C//DTD SVG 1.1//EN\"\n",
       " \"http://www.w3.org/Graphics/SVG/1.1/DTD/svg11.dtd\">\n",
       "<!-- Generated by graphviz version 2.38.0 (20140413.2041)\n",
       " -->\n",
       "<!-- Title: %3 Pages: 1 -->\n",
       "<svg width=\"510pt\" height=\"354pt\"\n",
       " viewBox=\"0.00 0.00 509.50 353.98\" xmlns=\"http://www.w3.org/2000/svg\" xmlns:xlink=\"http://www.w3.org/1999/xlink\">\n",
       "<g id=\"graph0\" class=\"graph\" transform=\"scale(1 1) rotate(0) translate(4 349.982)\">\n",
       "<title>%3</title>\n",
       "<polygon fill=\"white\" stroke=\"none\" points=\"-4,4 -4,-349.982 505.5,-349.982 505.5,4 -4,4\"/>\n",
       "<!-- 0 -->\n",
       "<g id=\"node1\" class=\"node\"><title>0</title>\n",
       "<ellipse fill=\"none\" stroke=\"black\" cx=\"253.5\" cy=\"-293.986\" rx=\"51.9908\" ry=\"51.9908\"/>\n",
       "<text text-anchor=\"middle\" x=\"253.5\" y=\"-290.286\" font-family=\"Times,serif\" font-size=\"14.00\">f5&lt;3.63717</text>\n",
       "</g>\n",
       "<!-- 1 -->\n",
       "<g id=\"node2\" class=\"node\"><title>1</title>\n",
       "<ellipse fill=\"none\" stroke=\"black\" cx=\"182.5\" cy=\"-138.995\" rx=\"51.9908\" ry=\"51.9908\"/>\n",
       "<text text-anchor=\"middle\" x=\"182.5\" y=\"-135.295\" font-family=\"Times,serif\" font-size=\"14.00\">f5&lt;3.02541</text>\n",
       "</g>\n",
       "<!-- 0&#45;&gt;1 -->\n",
       "<g id=\"edge1\" class=\"edge\"><title>0&#45;&gt;1</title>\n",
       "<path fill=\"none\" stroke=\"#0000ff\" d=\"M224.821,-250.433C219.678,-241.878 214.644,-232.804 210.5,-223.991 206.746,-216.006 203.267,-207.38 200.13,-198.801\"/>\n",
       "<polygon fill=\"#0000ff\" stroke=\"#0000ff\" points=\"203.361,-197.439 196.736,-189.171 196.759,-199.766 203.361,-197.439\"/>\n",
       "<text text-anchor=\"middle\" x=\"245\" y=\"-212.791\" font-family=\"Times,serif\" font-size=\"14.00\">yes, missing</text>\n",
       "</g>\n",
       "<!-- 2 -->\n",
       "<g id=\"node3\" class=\"node\"><title>2</title>\n",
       "<ellipse fill=\"none\" stroke=\"black\" cx=\"315.5\" cy=\"-138.995\" rx=\"51.9908\" ry=\"51.9908\"/>\n",
       "<text text-anchor=\"middle\" x=\"315.5\" y=\"-135.295\" font-family=\"Times,serif\" font-size=\"14.00\">f5&lt;4.14354</text>\n",
       "</g>\n",
       "<!-- 0&#45;&gt;2 -->\n",
       "<g id=\"edge2\" class=\"edge\"><title>0&#45;&gt;2</title>\n",
       "<path fill=\"none\" stroke=\"#ff0000\" d=\"M272.777,-245.418C278.959,-230.163 285.871,-213.109 292.303,-197.237\"/>\n",
       "<polygon fill=\"#ff0000\" stroke=\"#ff0000\" points=\"295.722,-198.117 296.235,-187.535 289.235,-195.488 295.722,-198.117\"/>\n",
       "<text text-anchor=\"middle\" x=\"293.5\" y=\"-212.791\" font-family=\"Times,serif\" font-size=\"14.00\">no</text>\n",
       "</g>\n",
       "<!-- 3 -->\n",
       "<g id=\"node4\" class=\"node\"><title>3</title>\n",
       "<polygon fill=\"none\" stroke=\"black\" points=\"107,-36 0,-36 0,-0 107,-0 107,-36\"/>\n",
       "<text text-anchor=\"middle\" x=\"53.5\" y=\"-14.3\" font-family=\"Times,serif\" font-size=\"14.00\">leaf=&#45;0.0122987</text>\n",
       "</g>\n",
       "<!-- 1&#45;&gt;3 -->\n",
       "<g id=\"edge3\" class=\"edge\"><title>1&#45;&gt;3</title>\n",
       "<path fill=\"none\" stroke=\"#0000ff\" d=\"M144.493,-102.936C123.684,-83.7408 98.4212,-60.4373 79.7995,-43.2598\"/>\n",
       "<polygon fill=\"#0000ff\" stroke=\"#0000ff\" points=\"81.9812,-40.5106 72.2577,-36.303 77.235,-45.6559 81.9812,-40.5106\"/>\n",
       "<text text-anchor=\"middle\" x=\"141\" y=\"-57.8\" font-family=\"Times,serif\" font-size=\"14.00\">yes, missing</text>\n",
       "</g>\n",
       "<!-- 4 -->\n",
       "<g id=\"node5\" class=\"node\"><title>4</title>\n",
       "<polygon fill=\"none\" stroke=\"black\" points=\"239.5,-36 125.5,-36 125.5,-0 239.5,-0 239.5,-36\"/>\n",
       "<text text-anchor=\"middle\" x=\"182.5\" y=\"-14.3\" font-family=\"Times,serif\" font-size=\"14.00\">leaf=&#45;0.00477111</text>\n",
       "</g>\n",
       "<!-- 1&#45;&gt;4 -->\n",
       "<g id=\"edge4\" class=\"edge\"><title>1&#45;&gt;4</title>\n",
       "<path fill=\"none\" stroke=\"#ff0000\" d=\"M182.5,-86.84C182.5,-72.9503 182.5,-58.4418 182.5,-46.4237\"/>\n",
       "<polygon fill=\"#ff0000\" stroke=\"#ff0000\" points=\"186,-46.1758 182.5,-36.1759 179,-46.1759 186,-46.1758\"/>\n",
       "<text text-anchor=\"middle\" x=\"189.5\" y=\"-57.8\" font-family=\"Times,serif\" font-size=\"14.00\">no</text>\n",
       "</g>\n",
       "<!-- 5 -->\n",
       "<g id=\"node6\" class=\"node\"><title>5</title>\n",
       "<polygon fill=\"none\" stroke=\"black\" points=\"373.5,-36 257.5,-36 257.5,-0 373.5,-0 373.5,-36\"/>\n",
       "<text text-anchor=\"middle\" x=\"315.5\" y=\"-14.3\" font-family=\"Times,serif\" font-size=\"14.00\">leaf=0.000802013</text>\n",
       "</g>\n",
       "<!-- 2&#45;&gt;5 -->\n",
       "<g id=\"edge5\" class=\"edge\"><title>2&#45;&gt;5</title>\n",
       "<path fill=\"none\" stroke=\"#0000ff\" d=\"M315.5,-86.84C315.5,-72.9503 315.5,-58.4418 315.5,-46.4237\"/>\n",
       "<polygon fill=\"#0000ff\" stroke=\"#0000ff\" points=\"319,-46.1758 315.5,-36.1759 312,-46.1759 319,-46.1758\"/>\n",
       "<text text-anchor=\"middle\" x=\"350\" y=\"-57.8\" font-family=\"Times,serif\" font-size=\"14.00\">yes, missing</text>\n",
       "</g>\n",
       "<!-- 6 -->\n",
       "<g id=\"node7\" class=\"node\"><title>6</title>\n",
       "<polygon fill=\"none\" stroke=\"black\" points=\"501.5,-36 391.5,-36 391.5,-0 501.5,-0 501.5,-36\"/>\n",
       "<text text-anchor=\"middle\" x=\"446.5\" y=\"-14.3\" font-family=\"Times,serif\" font-size=\"14.00\">leaf=0.00607209</text>\n",
       "</g>\n",
       "<!-- 2&#45;&gt;6 -->\n",
       "<g id=\"edge6\" class=\"edge\"><title>2&#45;&gt;6</title>\n",
       "<path fill=\"none\" stroke=\"#ff0000\" d=\"M353.743,-103.257C375.116,-83.8428 401.201,-60.1478 420.259,-42.836\"/>\n",
       "<polygon fill=\"#ff0000\" stroke=\"#ff0000\" points=\"422.657,-45.3864 427.706,-36.0719 417.95,-40.2049 422.657,-45.3864\"/>\n",
       "<text text-anchor=\"middle\" x=\"415.5\" y=\"-57.8\" font-family=\"Times,serif\" font-size=\"14.00\">no</text>\n",
       "</g>\n",
       "</g>\n",
       "</svg>\n"
      ],
      "text/plain": [
       "<graphviz.dot.Digraph at 0x7f30615bfba8>"
      ]
     },
     "execution_count": 177,
     "metadata": {},
     "output_type": "execute_result"
    }
   ],
   "source": [
    "xgb.plot_importance(bst, importance_type=\"gain\")#, max_num_features=None)\n",
    "plt.show()\n",
    "xgb.to_graphviz(bst, num_trees=8)"
   ]
  },
  {
   "cell_type": "code",
   "execution_count": 22,
   "metadata": {
    "collapsed": false,
    "deletable": true,
    "editable": true
   },
   "outputs": [
    {
     "name": "stdout",
     "output_type": "stream",
     "text": [
      "Writing results\n"
     ]
    }
   ],
   "source": [
    "import numpy as np\n",
    "# Make predictions\n",
    "ypred = bst.predict(d_valid)\n",
    "submit_file = \"../saved_data/xgboost_predict_mistery.csv\"\n",
    "#print(\"Training error: %f\" % score)\n",
    "print(\"Writing results\")\n",
    "with open(submit_file, 'w') as fh:\n",
    "    fh.write(\"Id,Prediction\\n\")\n",
    "    indices = np.where(Ts != 0)\n",
    "    for index in range(len(indices[0])):\n",
    "        u = indices[0][index]\n",
    "        i = indices[1][index]\n",
    "        fh.write(\"r%d_c%d,%f\\n\" % (u+1, i+1, ypred[index]))"
   ]
  },
  {
   "cell_type": "code",
   "execution_count": 163,
   "metadata": {
    "collapsed": false,
    "deletable": true,
    "editable": true
   },
   "outputs": [
    {
     "data": {
      "text/plain": [
       "1176951"
      ]
     },
     "execution_count": 163,
     "metadata": {},
     "output_type": "execute_result"
    }
   ],
   "source": [
    "index"
   ]
  },
  {
   "cell_type": "code",
   "execution_count": 47,
   "metadata": {
    "collapsed": false,
    "deletable": true,
    "editable": true,
    "scrolled": true
   },
   "outputs": [
    {
     "ename": "KeyboardInterrupt",
     "evalue": "",
     "output_type": "error",
     "traceback": [
      "\u001b[0;31m---------------------------------------------------------------------------\u001b[0m",
      "\u001b[0;31mKeyboardInterrupt\u001b[0m                         Traceback (most recent call last)",
      "\u001b[0;32m<ipython-input-47-1e7368dcf73e>\u001b[0m in \u001b[0;36m<module>\u001b[0;34m()\u001b[0m\n\u001b[1;32m     13\u001b[0m     \u001b[0my_test\u001b[0m \u001b[0;34m=\u001b[0m \u001b[0mTs\u001b[0m\u001b[0;34m[\u001b[0m\u001b[0mnp\u001b[0m\u001b[0;34m.\u001b[0m\u001b[0mwhere\u001b[0m\u001b[0;34m(\u001b[0m\u001b[0mTs\u001b[0m \u001b[0;34m!=\u001b[0m \u001b[0;36m0\u001b[0m\u001b[0;34m)\u001b[0m\u001b[0;34m]\u001b[0m\u001b[0;34m\u001b[0m\u001b[0m\n\u001b[1;32m     14\u001b[0m est = GradientBoostingRegressor(n_estimators=100, learning_rate=0.2,\n\u001b[0;32m---> 15\u001b[0;31m     max_depth=20, random_state=0, loss='ls').fit(X_train, y_train, monitor=monitor)\n\u001b[0m\u001b[1;32m     16\u001b[0m \u001b[0;32mif\u001b[0m \u001b[0mhas_test\u001b[0m\u001b[0;34m:\u001b[0m\u001b[0;34m\u001b[0m\u001b[0m\n\u001b[1;32m     17\u001b[0m     \u001b[0mscore\u001b[0m \u001b[0;34m=\u001b[0m \u001b[0mnp\u001b[0m\u001b[0;34m.\u001b[0m\u001b[0msqrt\u001b[0m\u001b[0;34m(\u001b[0m\u001b[0mmean_squared_error\u001b[0m\u001b[0;34m(\u001b[0m\u001b[0my_test\u001b[0m\u001b[0;34m,\u001b[0m \u001b[0mest\u001b[0m\u001b[0;34m.\u001b[0m\u001b[0mpredict\u001b[0m\u001b[0;34m(\u001b[0m\u001b[0mX_test\u001b[0m\u001b[0;34m)\u001b[0m\u001b[0;34m)\u001b[0m\u001b[0;34m)\u001b[0m\u001b[0;34m\u001b[0m\u001b[0m\n",
      "\u001b[0;32m/home/gmeanti/venv/lib/python3.5/site-packages/sklearn/ensemble/gradient_boosting.py\u001b[0m in \u001b[0;36mfit\u001b[0;34m(self, X, y, sample_weight, monitor)\u001b[0m\n\u001b[1;32m   1026\u001b[0m         \u001b[0;31m# fit the boosting stages\u001b[0m\u001b[0;34m\u001b[0m\u001b[0;34m\u001b[0m\u001b[0m\n\u001b[1;32m   1027\u001b[0m         n_stages = self._fit_stages(X, y, y_pred, sample_weight, random_state,\n\u001b[0;32m-> 1028\u001b[0;31m                                     begin_at_stage, monitor, X_idx_sorted)\n\u001b[0m\u001b[1;32m   1029\u001b[0m         \u001b[0;31m# change shape of arrays after fit (early-stopping or additional ests)\u001b[0m\u001b[0;34m\u001b[0m\u001b[0;34m\u001b[0m\u001b[0m\n\u001b[1;32m   1030\u001b[0m         \u001b[0;32mif\u001b[0m \u001b[0mn_stages\u001b[0m \u001b[0;34m!=\u001b[0m \u001b[0mself\u001b[0m\u001b[0;34m.\u001b[0m\u001b[0mestimators_\u001b[0m\u001b[0;34m.\u001b[0m\u001b[0mshape\u001b[0m\u001b[0;34m[\u001b[0m\u001b[0;36m0\u001b[0m\u001b[0;34m]\u001b[0m\u001b[0;34m:\u001b[0m\u001b[0;34m\u001b[0m\u001b[0m\n",
      "\u001b[0;32m/home/gmeanti/venv/lib/python3.5/site-packages/sklearn/ensemble/gradient_boosting.py\u001b[0m in \u001b[0;36m_fit_stages\u001b[0;34m(self, X, y, y_pred, sample_weight, random_state, begin_at_stage, monitor, X_idx_sorted)\u001b[0m\n\u001b[1;32m   1081\u001b[0m             y_pred = self._fit_stage(i, X, y, y_pred, sample_weight,\n\u001b[1;32m   1082\u001b[0m                                      \u001b[0msample_mask\u001b[0m\u001b[0;34m,\u001b[0m \u001b[0mrandom_state\u001b[0m\u001b[0;34m,\u001b[0m \u001b[0mX_idx_sorted\u001b[0m\u001b[0;34m,\u001b[0m\u001b[0;34m\u001b[0m\u001b[0m\n\u001b[0;32m-> 1083\u001b[0;31m                                      X_csc, X_csr)\n\u001b[0m\u001b[1;32m   1084\u001b[0m \u001b[0;34m\u001b[0m\u001b[0m\n\u001b[1;32m   1085\u001b[0m             \u001b[0;31m# track deviance (= loss)\u001b[0m\u001b[0;34m\u001b[0m\u001b[0;34m\u001b[0m\u001b[0m\n",
      "\u001b[0;32m/home/gmeanti/venv/lib/python3.5/site-packages/sklearn/ensemble/gradient_boosting.py\u001b[0m in \u001b[0;36m_fit_stage\u001b[0;34m(self, i, X, y, y_pred, sample_weight, sample_mask, random_state, X_idx_sorted, X_csc, X_csr)\u001b[0m\n\u001b[1;32m    785\u001b[0m             \u001b[0;32melse\u001b[0m\u001b[0;34m:\u001b[0m\u001b[0;34m\u001b[0m\u001b[0m\n\u001b[1;32m    786\u001b[0m                 tree.fit(X, residual, sample_weight=sample_weight,\n\u001b[0;32m--> 787\u001b[0;31m                          check_input=False, X_idx_sorted=X_idx_sorted)\n\u001b[0m\u001b[1;32m    788\u001b[0m \u001b[0;34m\u001b[0m\u001b[0m\n\u001b[1;32m    789\u001b[0m             \u001b[0;31m# update tree leaves\u001b[0m\u001b[0;34m\u001b[0m\u001b[0;34m\u001b[0m\u001b[0m\n",
      "\u001b[0;32m/home/gmeanti/venv/lib/python3.5/site-packages/sklearn/tree/tree.py\u001b[0m in \u001b[0;36mfit\u001b[0;34m(self, X, y, sample_weight, check_input, X_idx_sorted)\u001b[0m\n\u001b[1;32m   1027\u001b[0m             \u001b[0msample_weight\u001b[0m\u001b[0;34m=\u001b[0m\u001b[0msample_weight\u001b[0m\u001b[0;34m,\u001b[0m\u001b[0;34m\u001b[0m\u001b[0m\n\u001b[1;32m   1028\u001b[0m             \u001b[0mcheck_input\u001b[0m\u001b[0;34m=\u001b[0m\u001b[0mcheck_input\u001b[0m\u001b[0;34m,\u001b[0m\u001b[0;34m\u001b[0m\u001b[0m\n\u001b[0;32m-> 1029\u001b[0;31m             X_idx_sorted=X_idx_sorted)\n\u001b[0m\u001b[1;32m   1030\u001b[0m         \u001b[0;32mreturn\u001b[0m \u001b[0mself\u001b[0m\u001b[0;34m\u001b[0m\u001b[0m\n\u001b[1;32m   1031\u001b[0m \u001b[0;34m\u001b[0m\u001b[0m\n",
      "\u001b[0;32m/home/gmeanti/venv/lib/python3.5/site-packages/sklearn/tree/tree.py\u001b[0m in \u001b[0;36mfit\u001b[0;34m(self, X, y, sample_weight, check_input, X_idx_sorted)\u001b[0m\n\u001b[1;32m    348\u001b[0m                                            self.min_impurity_split)\n\u001b[1;32m    349\u001b[0m \u001b[0;34m\u001b[0m\u001b[0m\n\u001b[0;32m--> 350\u001b[0;31m         \u001b[0mbuilder\u001b[0m\u001b[0;34m.\u001b[0m\u001b[0mbuild\u001b[0m\u001b[0;34m(\u001b[0m\u001b[0mself\u001b[0m\u001b[0;34m.\u001b[0m\u001b[0mtree_\u001b[0m\u001b[0;34m,\u001b[0m \u001b[0mX\u001b[0m\u001b[0;34m,\u001b[0m \u001b[0my\u001b[0m\u001b[0;34m,\u001b[0m \u001b[0msample_weight\u001b[0m\u001b[0;34m,\u001b[0m \u001b[0mX_idx_sorted\u001b[0m\u001b[0;34m)\u001b[0m\u001b[0;34m\u001b[0m\u001b[0m\n\u001b[0m\u001b[1;32m    351\u001b[0m \u001b[0;34m\u001b[0m\u001b[0m\n\u001b[1;32m    352\u001b[0m         \u001b[0;32mif\u001b[0m \u001b[0mself\u001b[0m\u001b[0;34m.\u001b[0m\u001b[0mn_outputs_\u001b[0m \u001b[0;34m==\u001b[0m \u001b[0;36m1\u001b[0m\u001b[0;34m:\u001b[0m\u001b[0;34m\u001b[0m\u001b[0m\n",
      "\u001b[0;31mKeyboardInterrupt\u001b[0m: "
     ]
    }
   ],
   "source": [
    "### BLENDING WITH BOOSTED REGRESSION\n",
    "has_test = False\n",
    "X_train = np.vstack((neigh_spearman_pred[0], neigh_pearson_pred[0], bias_predictor[0], \n",
    "                     SVD_predictor[0], SGD_simple_pred[0], SGD_neighbour_pred[0])).T\n",
    "X_test = np.vstack((neigh_spearman_pred[1], neigh_pearson_pred[1], bias_predictor[1], \n",
    "                    SVD_predictor[1], SGD_simple_pred[1], SGD_neighbour_pred[1])).T\n",
    "y_train = Tr[np.where(Tr != 0)]\n",
    "def monitor(i, est, other):\n",
    "    print(\"%d iteration\" % i)\n",
    "    if i > 40:\n",
    "        return True # Stop regressor\n",
    "if has_test:\n",
    "    y_test = Ts[np.where(Ts != 0)]\n",
    "est = GradientBoostingRegressor(n_estimators=100, learning_rate=0.2,\n",
    "    max_depth=20, random_state=0, loss='ls').fit(X_train, y_train, monitor=monitor)\n",
    "if has_test:\n",
    "    score = np.sqrt(mean_squared_error(y_test, est.predict(X_test)))\n",
    "    print(\"Score: %f\" % score)\n",
    "else:\n",
    "    pred = est.predict(X_test)\n",
    "    score = np.sqrt(mean_squared_error(y_train, pred))\n",
    "    print(\"Training error: %f\" % score)\n",
    "    print(\"Writing results\")\n",
    "    with open(submit_file, 'w') as fh:\n",
    "        fh.write(\"Id,Prediction\\n\")\n",
    "        indices = np.where(Ts != 0)\n",
    "        for index in range(len(indices[0])):\n",
    "            u = indices[0][index]\n",
    "            i = indices[1][index]\n",
    "            fh.write(\"r%d_c%d,%f\\n\" % (u+1, i+1, pred[index]))\n"
   ]
  },
  {
   "cell_type": "code",
   "execution_count": 40,
   "metadata": {
    "collapsed": false,
    "deletable": true,
    "editable": true
   },
   "outputs": [
    {
     "name": "stdout",
     "output_type": "stream",
     "text": [
      "Writing results\n",
      "Done\n"
     ]
    }
   ],
   "source": [
    "print(\"Writing results\")\n",
    "pred = SGD_neighbour_pred[1]\n",
    "with open(submit_file, 'w') as fh:\n",
    "    fh.write(\"Id,Prediction\\n\")\n",
    "    indices = np.where(Ts != 0)\n",
    "    for index in range(len(indices[0])):\n",
    "        u = indices[0][index]\n",
    "        i = indices[1][index]\n",
    "        fh.write(\"r%d_c%d,%f\\n\" % (u+1, i+1, pred[index]))\n",
    "print(\"Done\")\n"
   ]
  },
  {
   "cell_type": "code",
   "execution_count": 45,
   "metadata": {
    "collapsed": true,
    "deletable": true,
    "editable": true
   },
   "outputs": [],
   "source": []
  },
  {
   "cell_type": "code",
   "execution_count": 46,
   "metadata": {
    "collapsed": false,
    "deletable": true,
    "editable": true
   },
   "outputs": [
    {
     "data": {
      "text/plain": [
       "0.67602626902105312"
      ]
     },
     "execution_count": 46,
     "metadata": {},
     "output_type": "execute_result"
    }
   ],
   "source": []
  },
  {
   "cell_type": "code",
   "execution_count": null,
   "metadata": {
    "collapsed": true,
    "deletable": true,
    "editable": true
   },
   "outputs": [],
   "source": []
  }
 ],
 "metadata": {
  "kernelspec": {
   "display_name": "Python 2",
   "language": "python",
   "name": "python2"
  },
  "language_info": {
   "codemirror_mode": {
    "name": "ipython",
    "version": 2
   },
   "file_extension": ".py",
   "mimetype": "text/x-python",
   "name": "python",
   "nbconvert_exporter": "python",
   "pygments_lexer": "ipython2",
   "version": "2.7.12"
  }
 },
 "nbformat": 4,
 "nbformat_minor": 2
}
